{
  "nbformat": 4,
  "nbformat_minor": 0,
  "metadata": {
    "colab": {
      "name": "DL Project.ipynb",
      "provenance": [],
      "collapsed_sections": []
    },
    "kernelspec": {
      "name": "python3",
      "display_name": "Python 3"
    },
    "language_info": {
      "name": "python"
    }
  },
  "cells": [
    {
      "cell_type": "code",
      "metadata": {
        "id": "oaNewrAZ9Yhd"
      },
      "source": [
        "import os\n",
        "import matplotlib.pyplot as plt\n",
        "import pandas as pd\n",
        "import seaborn as sns\n",
        "import numpy as np\n",
        "\n",
        "import tensorflow as tf\n",
        "from tensorflow.keras.models import Sequential\n",
        "from tensorflow.keras.layers import Dense\n",
        "\n",
        "import warnings\n",
        "warnings.filterwarnings('ignore')"
      ],
      "execution_count": 1,
      "outputs": []
    },
    {
      "cell_type": "code",
      "metadata": {
        "id": "0_lTMA4d9nVv"
      },
      "source": [
        "df=pd.read_csv(\"StudentsPerformance.csv\")"
      ],
      "execution_count": 2,
      "outputs": []
    },
    {
      "cell_type": "code",
      "metadata": {
        "colab": {
          "base_uri": "https://localhost:8080/",
          "height": 221
        },
        "id": "X6bopVuX9yuu",
        "outputId": "9abafbdd-38f2-4590-9980-f062324b33c9"
      },
      "source": [
        "df.head()"
      ],
      "execution_count": 3,
      "outputs": [
        {
          "output_type": "execute_result",
          "data": {
            "text/html": [
              "<div>\n",
              "<style scoped>\n",
              "    .dataframe tbody tr th:only-of-type {\n",
              "        vertical-align: middle;\n",
              "    }\n",
              "\n",
              "    .dataframe tbody tr th {\n",
              "        vertical-align: top;\n",
              "    }\n",
              "\n",
              "    .dataframe thead th {\n",
              "        text-align: right;\n",
              "    }\n",
              "</style>\n",
              "<table border=\"1\" class=\"dataframe\">\n",
              "  <thead>\n",
              "    <tr style=\"text-align: right;\">\n",
              "      <th></th>\n",
              "      <th>gender</th>\n",
              "      <th>race/ethnicity</th>\n",
              "      <th>parental level of education</th>\n",
              "      <th>lunch</th>\n",
              "      <th>test preparation course</th>\n",
              "      <th>math score</th>\n",
              "      <th>reading score</th>\n",
              "      <th>writing score</th>\n",
              "    </tr>\n",
              "  </thead>\n",
              "  <tbody>\n",
              "    <tr>\n",
              "      <th>0</th>\n",
              "      <td>female</td>\n",
              "      <td>group B</td>\n",
              "      <td>bachelor's degree</td>\n",
              "      <td>standard</td>\n",
              "      <td>none</td>\n",
              "      <td>72</td>\n",
              "      <td>72</td>\n",
              "      <td>74</td>\n",
              "    </tr>\n",
              "    <tr>\n",
              "      <th>1</th>\n",
              "      <td>female</td>\n",
              "      <td>group C</td>\n",
              "      <td>some college</td>\n",
              "      <td>standard</td>\n",
              "      <td>completed</td>\n",
              "      <td>69</td>\n",
              "      <td>90</td>\n",
              "      <td>88</td>\n",
              "    </tr>\n",
              "    <tr>\n",
              "      <th>2</th>\n",
              "      <td>female</td>\n",
              "      <td>group B</td>\n",
              "      <td>master's degree</td>\n",
              "      <td>standard</td>\n",
              "      <td>none</td>\n",
              "      <td>90</td>\n",
              "      <td>95</td>\n",
              "      <td>93</td>\n",
              "    </tr>\n",
              "    <tr>\n",
              "      <th>3</th>\n",
              "      <td>male</td>\n",
              "      <td>group A</td>\n",
              "      <td>associate's degree</td>\n",
              "      <td>free/reduced</td>\n",
              "      <td>none</td>\n",
              "      <td>47</td>\n",
              "      <td>57</td>\n",
              "      <td>44</td>\n",
              "    </tr>\n",
              "    <tr>\n",
              "      <th>4</th>\n",
              "      <td>male</td>\n",
              "      <td>group C</td>\n",
              "      <td>some college</td>\n",
              "      <td>standard</td>\n",
              "      <td>none</td>\n",
              "      <td>76</td>\n",
              "      <td>78</td>\n",
              "      <td>75</td>\n",
              "    </tr>\n",
              "  </tbody>\n",
              "</table>\n",
              "</div>"
            ],
            "text/plain": [
              "   gender race/ethnicity  ... reading score writing score\n",
              "0  female        group B  ...            72            74\n",
              "1  female        group C  ...            90            88\n",
              "2  female        group B  ...            95            93\n",
              "3    male        group A  ...            57            44\n",
              "4    male        group C  ...            78            75\n",
              "\n",
              "[5 rows x 8 columns]"
            ]
          },
          "metadata": {},
          "execution_count": 3
        }
      ]
    },
    {
      "cell_type": "code",
      "metadata": {
        "colab": {
          "base_uri": "https://localhost:8080/"
        },
        "id": "9EvIulEm96Bm",
        "outputId": "0cb042c4-5e99-43b3-f2ce-4af2a52ac18d"
      },
      "source": [
        "df.info()"
      ],
      "execution_count": 4,
      "outputs": [
        {
          "output_type": "stream",
          "name": "stdout",
          "text": [
            "<class 'pandas.core.frame.DataFrame'>\n",
            "RangeIndex: 1000 entries, 0 to 999\n",
            "Data columns (total 8 columns):\n",
            " #   Column                       Non-Null Count  Dtype \n",
            "---  ------                       --------------  ----- \n",
            " 0   gender                       1000 non-null   object\n",
            " 1   race/ethnicity               1000 non-null   object\n",
            " 2   parental level of education  1000 non-null   object\n",
            " 3   lunch                        1000 non-null   object\n",
            " 4   test preparation course      1000 non-null   object\n",
            " 5   math score                   1000 non-null   int64 \n",
            " 6   reading score                1000 non-null   int64 \n",
            " 7   writing score                1000 non-null   int64 \n",
            "dtypes: int64(3), object(5)\n",
            "memory usage: 62.6+ KB\n"
          ]
        }
      ]
    },
    {
      "cell_type": "code",
      "metadata": {
        "colab": {
          "base_uri": "https://localhost:8080/",
          "height": 297
        },
        "id": "uToFnmmW975P",
        "outputId": "88ec8255-73ef-4381-a0e5-89eada469b29"
      },
      "source": [
        "df.describe()"
      ],
      "execution_count": 5,
      "outputs": [
        {
          "output_type": "execute_result",
          "data": {
            "text/html": [
              "<div>\n",
              "<style scoped>\n",
              "    .dataframe tbody tr th:only-of-type {\n",
              "        vertical-align: middle;\n",
              "    }\n",
              "\n",
              "    .dataframe tbody tr th {\n",
              "        vertical-align: top;\n",
              "    }\n",
              "\n",
              "    .dataframe thead th {\n",
              "        text-align: right;\n",
              "    }\n",
              "</style>\n",
              "<table border=\"1\" class=\"dataframe\">\n",
              "  <thead>\n",
              "    <tr style=\"text-align: right;\">\n",
              "      <th></th>\n",
              "      <th>math score</th>\n",
              "      <th>reading score</th>\n",
              "      <th>writing score</th>\n",
              "    </tr>\n",
              "  </thead>\n",
              "  <tbody>\n",
              "    <tr>\n",
              "      <th>count</th>\n",
              "      <td>1000.00000</td>\n",
              "      <td>1000.000000</td>\n",
              "      <td>1000.000000</td>\n",
              "    </tr>\n",
              "    <tr>\n",
              "      <th>mean</th>\n",
              "      <td>66.08900</td>\n",
              "      <td>69.169000</td>\n",
              "      <td>68.054000</td>\n",
              "    </tr>\n",
              "    <tr>\n",
              "      <th>std</th>\n",
              "      <td>15.16308</td>\n",
              "      <td>14.600192</td>\n",
              "      <td>15.195657</td>\n",
              "    </tr>\n",
              "    <tr>\n",
              "      <th>min</th>\n",
              "      <td>0.00000</td>\n",
              "      <td>17.000000</td>\n",
              "      <td>10.000000</td>\n",
              "    </tr>\n",
              "    <tr>\n",
              "      <th>25%</th>\n",
              "      <td>57.00000</td>\n",
              "      <td>59.000000</td>\n",
              "      <td>57.750000</td>\n",
              "    </tr>\n",
              "    <tr>\n",
              "      <th>50%</th>\n",
              "      <td>66.00000</td>\n",
              "      <td>70.000000</td>\n",
              "      <td>69.000000</td>\n",
              "    </tr>\n",
              "    <tr>\n",
              "      <th>75%</th>\n",
              "      <td>77.00000</td>\n",
              "      <td>79.000000</td>\n",
              "      <td>79.000000</td>\n",
              "    </tr>\n",
              "    <tr>\n",
              "      <th>max</th>\n",
              "      <td>100.00000</td>\n",
              "      <td>100.000000</td>\n",
              "      <td>100.000000</td>\n",
              "    </tr>\n",
              "  </tbody>\n",
              "</table>\n",
              "</div>"
            ],
            "text/plain": [
              "       math score  reading score  writing score\n",
              "count  1000.00000    1000.000000    1000.000000\n",
              "mean     66.08900      69.169000      68.054000\n",
              "std      15.16308      14.600192      15.195657\n",
              "min       0.00000      17.000000      10.000000\n",
              "25%      57.00000      59.000000      57.750000\n",
              "50%      66.00000      70.000000      69.000000\n",
              "75%      77.00000      79.000000      79.000000\n",
              "max     100.00000     100.000000     100.000000"
            ]
          },
          "metadata": {},
          "execution_count": 5
        }
      ]
    },
    {
      "cell_type": "code",
      "metadata": {
        "colab": {
          "base_uri": "https://localhost:8080/"
        },
        "id": "aQ-H0YhT9_EQ",
        "outputId": "bf09bcb3-61b4-4a40-e220-95ecab7109af"
      },
      "source": [
        "df.isna().sum()"
      ],
      "execution_count": 6,
      "outputs": [
        {
          "output_type": "execute_result",
          "data": {
            "text/plain": [
              "gender                         0\n",
              "race/ethnicity                 0\n",
              "parental level of education    0\n",
              "lunch                          0\n",
              "test preparation course        0\n",
              "math score                     0\n",
              "reading score                  0\n",
              "writing score                  0\n",
              "dtype: int64"
            ]
          },
          "metadata": {},
          "execution_count": 6
        }
      ]
    },
    {
      "cell_type": "code",
      "metadata": {
        "colab": {
          "base_uri": "https://localhost:8080/"
        },
        "id": "OrbPUrK2-BTF",
        "outputId": "e3b0c676-16bb-4b25-a1ef-0d57a95ceae1"
      },
      "source": [
        "df.shape"
      ],
      "execution_count": 7,
      "outputs": [
        {
          "output_type": "execute_result",
          "data": {
            "text/plain": [
              "(1000, 8)"
            ]
          },
          "metadata": {},
          "execution_count": 7
        }
      ]
    },
    {
      "cell_type": "code",
      "metadata": {
        "colab": {
          "base_uri": "https://localhost:8080/"
        },
        "id": "_cI0-WJ5-crN",
        "outputId": "64e061ec-6f4e-43a5-e5e1-04693bb032b0"
      },
      "source": [
        "df.size"
      ],
      "execution_count": 8,
      "outputs": [
        {
          "output_type": "execute_result",
          "data": {
            "text/plain": [
              "8000"
            ]
          },
          "metadata": {},
          "execution_count": 8
        }
      ]
    },
    {
      "cell_type": "code",
      "metadata": {
        "colab": {
          "base_uri": "https://localhost:8080/"
        },
        "id": "4wdRSb09_FLt",
        "outputId": "31bb6509-7a55-45f8-d6a1-befee3350348"
      },
      "source": [
        "df.duplicated().sum()"
      ],
      "execution_count": 9,
      "outputs": [
        {
          "output_type": "execute_result",
          "data": {
            "text/plain": [
              "0"
            ]
          },
          "metadata": {},
          "execution_count": 9
        }
      ]
    },
    {
      "cell_type": "code",
      "metadata": {
        "colab": {
          "base_uri": "https://localhost:8080/"
        },
        "id": "q2YDFpeX_MGG",
        "outputId": "e5a54e53-09f9-490f-8240-69104ee9ec6e"
      },
      "source": [
        "df.skew()"
      ],
      "execution_count": 10,
      "outputs": [
        {
          "output_type": "execute_result",
          "data": {
            "text/plain": [
              "math score      -0.278935\n",
              "reading score   -0.259105\n",
              "writing score   -0.289444\n",
              "dtype: float64"
            ]
          },
          "metadata": {},
          "execution_count": 10
        }
      ]
    },
    {
      "cell_type": "code",
      "metadata": {
        "colab": {
          "base_uri": "https://localhost:8080/"
        },
        "id": "mwOrNAd2_R1e",
        "outputId": "7dbae3d2-206e-4429-f5fd-0d3080bb62bb"
      },
      "source": [
        "df.corr"
      ],
      "execution_count": 11,
      "outputs": [
        {
          "output_type": "execute_result",
          "data": {
            "text/plain": [
              "<bound method DataFrame.corr of      gender race/ethnicity  ... reading score writing score\n",
              "0    female        group B  ...            72            74\n",
              "1    female        group C  ...            90            88\n",
              "2    female        group B  ...            95            93\n",
              "3      male        group A  ...            57            44\n",
              "4      male        group C  ...            78            75\n",
              "..      ...            ...  ...           ...           ...\n",
              "995  female        group E  ...            99            95\n",
              "996    male        group C  ...            55            55\n",
              "997  female        group C  ...            71            65\n",
              "998  female        group D  ...            78            77\n",
              "999  female        group D  ...            86            86\n",
              "\n",
              "[1000 rows x 8 columns]>"
            ]
          },
          "metadata": {},
          "execution_count": 11
        }
      ]
    },
    {
      "cell_type": "code",
      "metadata": {
        "colab": {
          "base_uri": "https://localhost:8080/",
          "height": 142
        },
        "id": "CFVw-3Ec_TbH",
        "outputId": "70b1a84c-eb27-462d-bfef-2c6d70ce7152"
      },
      "source": [
        "df.corr().style.background_gradient()"
      ],
      "execution_count": 12,
      "outputs": [
        {
          "output_type": "execute_result",
          "data": {
            "text/html": [
              "<style  type=\"text/css\" >\n",
              "#T_4b892db4_393b_11ec_b481_0242ac1c0002row0_col0,#T_4b892db4_393b_11ec_b481_0242ac1c0002row1_col1,#T_4b892db4_393b_11ec_b481_0242ac1c0002row2_col2{\n",
              "            background-color:  #023858;\n",
              "            color:  #f1f1f1;\n",
              "        }#T_4b892db4_393b_11ec_b481_0242ac1c0002row0_col1,#T_4b892db4_393b_11ec_b481_0242ac1c0002row0_col2,#T_4b892db4_393b_11ec_b481_0242ac1c0002row2_col0{\n",
              "            background-color:  #fff7fb;\n",
              "            color:  #000000;\n",
              "        }#T_4b892db4_393b_11ec_b481_0242ac1c0002row1_col0{\n",
              "            background-color:  #f4edf6;\n",
              "            color:  #000000;\n",
              "        }#T_4b892db4_393b_11ec_b481_0242ac1c0002row1_col2{\n",
              "            background-color:  #056caa;\n",
              "            color:  #f1f1f1;\n",
              "        }#T_4b892db4_393b_11ec_b481_0242ac1c0002row2_col1{\n",
              "            background-color:  #056faf;\n",
              "            color:  #f1f1f1;\n",
              "        }</style><table id=\"T_4b892db4_393b_11ec_b481_0242ac1c0002\" class=\"dataframe\"><thead>    <tr>        <th class=\"blank level0\" ></th>        <th class=\"col_heading level0 col0\" >math score</th>        <th class=\"col_heading level0 col1\" >reading score</th>        <th class=\"col_heading level0 col2\" >writing score</th>    </tr></thead><tbody>\n",
              "                <tr>\n",
              "                        <th id=\"T_4b892db4_393b_11ec_b481_0242ac1c0002level0_row0\" class=\"row_heading level0 row0\" >math score</th>\n",
              "                        <td id=\"T_4b892db4_393b_11ec_b481_0242ac1c0002row0_col0\" class=\"data row0 col0\" >1.000000</td>\n",
              "                        <td id=\"T_4b892db4_393b_11ec_b481_0242ac1c0002row0_col1\" class=\"data row0 col1\" >0.817580</td>\n",
              "                        <td id=\"T_4b892db4_393b_11ec_b481_0242ac1c0002row0_col2\" class=\"data row0 col2\" >0.802642</td>\n",
              "            </tr>\n",
              "            <tr>\n",
              "                        <th id=\"T_4b892db4_393b_11ec_b481_0242ac1c0002level0_row1\" class=\"row_heading level0 row1\" >reading score</th>\n",
              "                        <td id=\"T_4b892db4_393b_11ec_b481_0242ac1c0002row1_col0\" class=\"data row1 col0\" >0.817580</td>\n",
              "                        <td id=\"T_4b892db4_393b_11ec_b481_0242ac1c0002row1_col1\" class=\"data row1 col1\" >1.000000</td>\n",
              "                        <td id=\"T_4b892db4_393b_11ec_b481_0242ac1c0002row1_col2\" class=\"data row1 col2\" >0.954598</td>\n",
              "            </tr>\n",
              "            <tr>\n",
              "                        <th id=\"T_4b892db4_393b_11ec_b481_0242ac1c0002level0_row2\" class=\"row_heading level0 row2\" >writing score</th>\n",
              "                        <td id=\"T_4b892db4_393b_11ec_b481_0242ac1c0002row2_col0\" class=\"data row2 col0\" >0.802642</td>\n",
              "                        <td id=\"T_4b892db4_393b_11ec_b481_0242ac1c0002row2_col1\" class=\"data row2 col1\" >0.954598</td>\n",
              "                        <td id=\"T_4b892db4_393b_11ec_b481_0242ac1c0002row2_col2\" class=\"data row2 col2\" >1.000000</td>\n",
              "            </tr>\n",
              "    </tbody></table>"
            ],
            "text/plain": [
              "<pandas.io.formats.style.Styler at 0x7fe3caa06a10>"
            ]
          },
          "metadata": {},
          "execution_count": 12
        }
      ]
    },
    {
      "cell_type": "code",
      "metadata": {
        "colab": {
          "base_uri": "https://localhost:8080/",
          "height": 286
        },
        "id": "FN6yMJGN_iss",
        "outputId": "6fa725ba-3d12-43de-c830-231f2c90debf"
      },
      "source": [
        "sns.heatmap(df.corr(),annot=True,cmap=\"Blues\")"
      ],
      "execution_count": 13,
      "outputs": [
        {
          "output_type": "execute_result",
          "data": {
            "text/plain": [
              "<matplotlib.axes._subplots.AxesSubplot at 0x7fe3caa58950>"
            ]
          },
          "metadata": {},
          "execution_count": 13
        },
        {
          "output_type": "display_data",
          "data": {
            "image/png": "[encoded data removed]",
            "text/plain": [
              "<Figure size 432x288 with 2 Axes>"
            ]
          },
          "metadata": {
            "needs_background": "light"
          }
        }
      ]
    },
    {
      "cell_type": "code",
      "metadata": {
        "colab": {
          "base_uri": "https://localhost:8080/",
          "height": 279
        },
        "id": "VZPnFjWYSq2R",
        "outputId": "a8e50676-987a-45be-d6aa-dbe4ae35158b"
      },
      "source": [
        "sns.countplot(x = 'gender',data = df)\n",
        "plt.show()"
      ],
      "execution_count": 14,
      "outputs": [
        {
          "output_type": "display_data",
          "data": {
            "image/png": "[encoded data removed]",
            "text/plain": [
              "<Figure size 432x288 with 1 Axes>"
            ]
          },
          "metadata": {
            "needs_background": "light"
          }
        }
      ]
    },
    {
      "cell_type": "code",
      "metadata": {
        "colab": {
          "base_uri": "https://localhost:8080/",
          "height": 279
        },
        "id": "lL6k7ZA1Svcw",
        "outputId": "435e0daf-4046-4a74-8fe2-a41cf60ea74f"
      },
      "source": [
        "sns.countplot(x = 'test preparation course',data = df)\n",
        "plt.show()"
      ],
      "execution_count": 15,
      "outputs": [
        {
          "output_type": "display_data",
          "data": {
            "image/png": "[encoded data removed]",
            "text/plain": [
              "<Figure size 432x288 with 1 Axes>"
            ]
          },
          "metadata": {
            "needs_background": "light"
          }
        }
      ]
    },
    {
      "cell_type": "code",
      "metadata": {
        "colab": {
          "base_uri": "https://localhost:8080/",
          "height": 279
        },
        "id": "JaKN3F9CS1q5",
        "outputId": "b0f3c30e-f136-457f-b137-e5c37f9ce9f8"
      },
      "source": [
        "sns.countplot(x = 'lunch',data = df)\n",
        "plt.show()"
      ],
      "execution_count": 16,
      "outputs": [
        {
          "output_type": "display_data",
          "data": {
            "image/png": "[encoded data removed]",
            "text/plain": [
              "<Figure size 432x288 with 1 Axes>"
            ]
          },
          "metadata": {
            "needs_background": "light"
          }
        }
      ]
    },
    {
      "cell_type": "code",
      "metadata": {
        "colab": {
          "base_uri": "https://localhost:8080/",
          "height": 279
        },
        "id": "GiRskvHCTAA4",
        "outputId": "1e6a72cc-b35b-4d06-c752-899951ccf0e4"
      },
      "source": [
        "sns.countplot(x = 'parental level of education',data = df)\n",
        "plt.show()"
      ],
      "execution_count": 17,
      "outputs": [
        {
          "output_type": "display_data",
          "data": {
            "image/png": "[encoded data removed]",
            "text/plain": [
              "<Figure size 432x288 with 1 Axes>"
            ]
          },
          "metadata": {
            "needs_background": "light"
          }
        }
      ]
    },
    {
      "cell_type": "code",
      "metadata": {
        "colab": {
          "base_uri": "https://localhost:8080/",
          "height": 279
        },
        "id": "qkGpchFiTARo",
        "outputId": "e0bf2617-f9f8-443e-efc1-e6790ce8dd85"
      },
      "source": [
        "sns.countplot(x = 'race/ethnicity',data = df)\n",
        "plt.show()"
      ],
      "execution_count": 18,
      "outputs": [
        {
          "output_type": "display_data",
          "data": {
            "image/png": "[encoded data removed]",
            "text/plain": [
              "<Figure size 432x288 with 1 Axes>"
            ]
          },
          "metadata": {
            "needs_background": "light"
          }
        }
      ]
    },
    {
      "cell_type": "code",
      "metadata": {
        "colab": {
          "base_uri": "https://localhost:8080/",
          "height": 541
        },
        "id": "7PbdZ8GGTOIJ",
        "outputId": "1367379c-4c22-40a6-dd22-6a533375c5ae"
      },
      "source": [
        "plt.figure(figsize=(16,9))\n",
        "ax = sns.heatmap(df.corr(),annot = True,cmap = 'viridis')\n",
        "plt.show()"
      ],
      "execution_count": 19,
      "outputs": [
        {
          "output_type": "display_data",
          "data": {
            "image/png": "[encoded data removed]",
            "text/plain": [
              "<Figure size 1152x648 with 2 Axes>"
            ]
          },
          "metadata": {
            "needs_background": "light"
          }
        }
      ]
    },
    {
      "cell_type": "code",
      "metadata": {
        "colab": {
          "base_uri": "https://localhost:8080/"
        },
        "id": "G9gKqfQ_TOUY",
        "outputId": "6f96654e-4461-4bdc-867d-a2228487a1a2"
      },
      "source": [
        "#Find the student with highest math percentage\n",
        "max_math_percent = df['math score'].max()\n",
        "max_math_percent"
      ],
      "execution_count": 20,
      "outputs": [
        {
          "output_type": "execute_result",
          "data": {
            "text/plain": [
              "100"
            ]
          },
          "metadata": {},
          "execution_count": 20
        }
      ]
    },
    {
      "cell_type": "code",
      "metadata": {
        "colab": {
          "base_uri": "https://localhost:8080/"
        },
        "id": "Wo53QBkdTOaY",
        "outputId": "bab7f3b0-b190-44f8-cd1a-f4e9f8d15ad3"
      },
      "source": [
        "#Find the student with lowest math percentage\n",
        "min_math_percent = df['math score'].min()\n",
        "min_math_percent"
      ],
      "execution_count": 21,
      "outputs": [
        {
          "output_type": "execute_result",
          "data": {
            "text/plain": [
              "0"
            ]
          },
          "metadata": {},
          "execution_count": 21
        }
      ]
    },
    {
      "cell_type": "code",
      "metadata": {
        "colab": {
          "base_uri": "https://localhost:8080/"
        },
        "id": "esvgu1cMT62w",
        "outputId": "71b3d59b-33f7-4476-d860-0224141ec552"
      },
      "source": [
        "#Find the student with highest reading score percentage\n",
        "max_reading_percent = df['reading score'].max()\n",
        "max_reading_percent"
      ],
      "execution_count": 22,
      "outputs": [
        {
          "output_type": "execute_result",
          "data": {
            "text/plain": [
              "100"
            ]
          },
          "metadata": {},
          "execution_count": 22
        }
      ]
    },
    {
      "cell_type": "code",
      "metadata": {
        "colab": {
          "base_uri": "https://localhost:8080/"
        },
        "id": "Np2ZG_BkUByA",
        "outputId": "ed86c196-528e-4d37-d181-29b4aa84d42b"
      },
      "source": [
        "#Find the student with lowest reading score percentage\n",
        "min_reading_percent = df['reading score'].min()\n",
        "min_reading_percent"
      ],
      "execution_count": 23,
      "outputs": [
        {
          "output_type": "execute_result",
          "data": {
            "text/plain": [
              "17"
            ]
          },
          "metadata": {},
          "execution_count": 23
        }
      ]
    },
    {
      "cell_type": "code",
      "metadata": {
        "colab": {
          "base_uri": "https://localhost:8080/"
        },
        "id": "t9UKYNrVUCEY",
        "outputId": "29ca800e-5f61-4f20-9ecb-2c11efa52e00"
      },
      "source": [
        "#Find the student with highest writing score percentage\n",
        "max_writing_percent = df['writing score'].max()\n",
        "max_writing_percent"
      ],
      "execution_count": 24,
      "outputs": [
        {
          "output_type": "execute_result",
          "data": {
            "text/plain": [
              "100"
            ]
          },
          "metadata": {},
          "execution_count": 24
        }
      ]
    },
    {
      "cell_type": "code",
      "metadata": {
        "colab": {
          "base_uri": "https://localhost:8080/"
        },
        "id": "TaSGEtUcUuSv",
        "outputId": "556c3970-4acf-413d-8032-ae6a5347394f"
      },
      "source": [
        "#Find the student with lowest writing score percentage\n",
        "min_writing_percent = df['writing score'].min()\n",
        "min_writing_percent"
      ],
      "execution_count": 25,
      "outputs": [
        {
          "output_type": "execute_result",
          "data": {
            "text/plain": [
              "10"
            ]
          },
          "metadata": {},
          "execution_count": 25
        }
      ]
    },
    {
      "cell_type": "code",
      "metadata": {
        "colab": {
          "base_uri": "https://localhost:8080/",
          "height": 221
        },
        "id": "-chkp04XUuWn",
        "outputId": "4b20197c-e92e-443c-d075-b01ed18ff34c"
      },
      "source": [
        "#Find the students who gots equal percentage in all scores\n",
        "df[(df['math score'].values == df['reading score']) & (df['math score'].values == df['writing score'])]"
      ],
      "execution_count": 26,
      "outputs": [
        {
          "output_type": "execute_result",
          "data": {
            "text/html": [
              "<div>\n",
              "<style scoped>\n",
              "    .dataframe tbody tr th:only-of-type {\n",
              "        vertical-align: middle;\n",
              "    }\n",
              "\n",
              "    .dataframe tbody tr th {\n",
              "        vertical-align: top;\n",
              "    }\n",
              "\n",
              "    .dataframe thead th {\n",
              "        text-align: right;\n",
              "    }\n",
              "</style>\n",
              "<table border=\"1\" class=\"dataframe\">\n",
              "  <thead>\n",
              "    <tr style=\"text-align: right;\">\n",
              "      <th></th>\n",
              "      <th>gender</th>\n",
              "      <th>race/ethnicity</th>\n",
              "      <th>parental level of education</th>\n",
              "      <th>lunch</th>\n",
              "      <th>test preparation course</th>\n",
              "      <th>math score</th>\n",
              "      <th>reading score</th>\n",
              "      <th>writing score</th>\n",
              "    </tr>\n",
              "  </thead>\n",
              "  <tbody>\n",
              "    <tr>\n",
              "      <th>157</th>\n",
              "      <td>male</td>\n",
              "      <td>group B</td>\n",
              "      <td>some college</td>\n",
              "      <td>free/reduced</td>\n",
              "      <td>none</td>\n",
              "      <td>60</td>\n",
              "      <td>60</td>\n",
              "      <td>60</td>\n",
              "    </tr>\n",
              "    <tr>\n",
              "      <th>458</th>\n",
              "      <td>female</td>\n",
              "      <td>group E</td>\n",
              "      <td>bachelor's degree</td>\n",
              "      <td>standard</td>\n",
              "      <td>none</td>\n",
              "      <td>100</td>\n",
              "      <td>100</td>\n",
              "      <td>100</td>\n",
              "    </tr>\n",
              "    <tr>\n",
              "      <th>796</th>\n",
              "      <td>male</td>\n",
              "      <td>group D</td>\n",
              "      <td>high school</td>\n",
              "      <td>standard</td>\n",
              "      <td>none</td>\n",
              "      <td>70</td>\n",
              "      <td>70</td>\n",
              "      <td>70</td>\n",
              "    </tr>\n",
              "    <tr>\n",
              "      <th>916</th>\n",
              "      <td>male</td>\n",
              "      <td>group E</td>\n",
              "      <td>bachelor's degree</td>\n",
              "      <td>standard</td>\n",
              "      <td>completed</td>\n",
              "      <td>100</td>\n",
              "      <td>100</td>\n",
              "      <td>100</td>\n",
              "    </tr>\n",
              "    <tr>\n",
              "      <th>962</th>\n",
              "      <td>female</td>\n",
              "      <td>group E</td>\n",
              "      <td>associate's degree</td>\n",
              "      <td>standard</td>\n",
              "      <td>none</td>\n",
              "      <td>100</td>\n",
              "      <td>100</td>\n",
              "      <td>100</td>\n",
              "    </tr>\n",
              "  </tbody>\n",
              "</table>\n",
              "</div>"
            ],
            "text/plain": [
              "     gender race/ethnicity  ... reading score writing score\n",
              "157    male        group B  ...            60            60\n",
              "458  female        group E  ...           100           100\n",
              "796    male        group D  ...            70            70\n",
              "916    male        group E  ...           100           100\n",
              "962  female        group E  ...           100           100\n",
              "\n",
              "[5 rows x 8 columns]"
            ]
          },
          "metadata": {},
          "execution_count": 26
        }
      ]
    },
    {
      "cell_type": "code",
      "metadata": {
        "id": "ilj7f7GBTOog"
      },
      "source": [
        ""
      ],
      "execution_count": 26,
      "outputs": []
    },
    {
      "cell_type": "code",
      "metadata": {
        "colab": {
          "base_uri": "https://localhost:8080/"
        },
        "id": "ofyqeXwn_6ET",
        "outputId": "0dff434b-27c6-4ad4-fdcd-fd644615aede"
      },
      "source": [
        "df.corr()[\"math score\"].sort_values()"
      ],
      "execution_count": 27,
      "outputs": [
        {
          "output_type": "execute_result",
          "data": {
            "text/plain": [
              "writing score    0.802642\n",
              "reading score    0.817580\n",
              "math score       1.000000\n",
              "Name: math score, dtype: float64"
            ]
          },
          "metadata": {},
          "execution_count": 27
        }
      ]
    },
    {
      "cell_type": "code",
      "metadata": {
        "colab": {
          "base_uri": "https://localhost:8080/",
          "height": 403
        },
        "id": "ioSo35auALRj",
        "outputId": "5401c6e0-78f7-4efd-9370-fae0e670d5fc"
      },
      "source": [
        "plt.figure(figsize=(10,6))\n",
        "sns.displot(df[\"math score\"])"
      ],
      "execution_count": 28,
      "outputs": [
        {
          "output_type": "execute_result",
          "data": {
            "text/plain": [
              "<seaborn.axisgrid.FacetGrid at 0x7fe3c1c6f310>"
            ]
          },
          "metadata": {},
          "execution_count": 28
        },
        {
          "output_type": "display_data",
          "data": {
            "text/plain": [
              "<Figure size 720x432 with 0 Axes>"
            ]
          },
          "metadata": {}
        },
        {
          "output_type": "display_data",
          "data": {
            "image/png": "[encoded data removed]",
            "text/plain": [
              "<Figure size 360x360 with 1 Axes>"
            ]
          },
          "metadata": {
            "needs_background": "light"
          }
        }
      ]
    },
    {
      "cell_type": "code",
      "metadata": {
        "colab": {
          "base_uri": "https://localhost:8080/",
          "height": 296
        },
        "id": "zOSpm0fVAYSD",
        "outputId": "b3e0b75f-1b1e-4c31-d849-9178802a0f07"
      },
      "source": [
        "sns.countplot(df[\"writing score\"])"
      ],
      "execution_count": 29,
      "outputs": [
        {
          "output_type": "execute_result",
          "data": {
            "text/plain": [
              "<matplotlib.axes._subplots.AxesSubplot at 0x7fe3c1ca5790>"
            ]
          },
          "metadata": {},
          "execution_count": 29
        },
        {
          "output_type": "display_data",
          "data": {
            "image/png": "[encoded data removed]",
            "text/plain": [
              "<Figure size 432x288 with 1 Axes>"
            ]
          },
          "metadata": {
            "needs_background": "light"
          }
        }
      ]
    },
    {
      "cell_type": "code",
      "metadata": {
        "colab": {
          "base_uri": "https://localhost:8080/",
          "height": 686
        },
        "id": "vYfbvsNBAi0R",
        "outputId": "457a7248-8780-480c-de12-437a87efdf86"
      },
      "source": [
        "df.sort_values('math score',ascending=False).head(20)"
      ],
      "execution_count": 30,
      "outputs": [
        {
          "output_type": "execute_result",
          "data": {
            "text/html": [
              "<div>\n",
              "<style scoped>\n",
              "    .dataframe tbody tr th:only-of-type {\n",
              "        vertical-align: middle;\n",
              "    }\n",
              "\n",
              "    .dataframe tbody tr th {\n",
              "        vertical-align: top;\n",
              "    }\n",
              "\n",
              "    .dataframe thead th {\n",
              "        text-align: right;\n",
              "    }\n",
              "</style>\n",
              "<table border=\"1\" class=\"dataframe\">\n",
              "  <thead>\n",
              "    <tr style=\"text-align: right;\">\n",
              "      <th></th>\n",
              "      <th>gender</th>\n",
              "      <th>race/ethnicity</th>\n",
              "      <th>parental level of education</th>\n",
              "      <th>lunch</th>\n",
              "      <th>test preparation course</th>\n",
              "      <th>math score</th>\n",
              "      <th>reading score</th>\n",
              "      <th>writing score</th>\n",
              "    </tr>\n",
              "  </thead>\n",
              "  <tbody>\n",
              "    <tr>\n",
              "      <th>962</th>\n",
              "      <td>female</td>\n",
              "      <td>group E</td>\n",
              "      <td>associate's degree</td>\n",
              "      <td>standard</td>\n",
              "      <td>none</td>\n",
              "      <td>100</td>\n",
              "      <td>100</td>\n",
              "      <td>100</td>\n",
              "    </tr>\n",
              "    <tr>\n",
              "      <th>625</th>\n",
              "      <td>male</td>\n",
              "      <td>group D</td>\n",
              "      <td>some college</td>\n",
              "      <td>standard</td>\n",
              "      <td>completed</td>\n",
              "      <td>100</td>\n",
              "      <td>97</td>\n",
              "      <td>99</td>\n",
              "    </tr>\n",
              "    <tr>\n",
              "      <th>458</th>\n",
              "      <td>female</td>\n",
              "      <td>group E</td>\n",
              "      <td>bachelor's degree</td>\n",
              "      <td>standard</td>\n",
              "      <td>none</td>\n",
              "      <td>100</td>\n",
              "      <td>100</td>\n",
              "      <td>100</td>\n",
              "    </tr>\n",
              "    <tr>\n",
              "      <th>623</th>\n",
              "      <td>male</td>\n",
              "      <td>group A</td>\n",
              "      <td>some college</td>\n",
              "      <td>standard</td>\n",
              "      <td>completed</td>\n",
              "      <td>100</td>\n",
              "      <td>96</td>\n",
              "      <td>86</td>\n",
              "    </tr>\n",
              "    <tr>\n",
              "      <th>451</th>\n",
              "      <td>female</td>\n",
              "      <td>group E</td>\n",
              "      <td>some college</td>\n",
              "      <td>standard</td>\n",
              "      <td>none</td>\n",
              "      <td>100</td>\n",
              "      <td>92</td>\n",
              "      <td>97</td>\n",
              "    </tr>\n",
              "    <tr>\n",
              "      <th>149</th>\n",
              "      <td>male</td>\n",
              "      <td>group E</td>\n",
              "      <td>associate's degree</td>\n",
              "      <td>free/reduced</td>\n",
              "      <td>completed</td>\n",
              "      <td>100</td>\n",
              "      <td>100</td>\n",
              "      <td>93</td>\n",
              "    </tr>\n",
              "    <tr>\n",
              "      <th>916</th>\n",
              "      <td>male</td>\n",
              "      <td>group E</td>\n",
              "      <td>bachelor's degree</td>\n",
              "      <td>standard</td>\n",
              "      <td>completed</td>\n",
              "      <td>100</td>\n",
              "      <td>100</td>\n",
              "      <td>100</td>\n",
              "    </tr>\n",
              "    <tr>\n",
              "      <th>263</th>\n",
              "      <td>female</td>\n",
              "      <td>group E</td>\n",
              "      <td>high school</td>\n",
              "      <td>standard</td>\n",
              "      <td>none</td>\n",
              "      <td>99</td>\n",
              "      <td>93</td>\n",
              "      <td>90</td>\n",
              "    </tr>\n",
              "    <tr>\n",
              "      <th>306</th>\n",
              "      <td>male</td>\n",
              "      <td>group E</td>\n",
              "      <td>some college</td>\n",
              "      <td>standard</td>\n",
              "      <td>completed</td>\n",
              "      <td>99</td>\n",
              "      <td>87</td>\n",
              "      <td>81</td>\n",
              "    </tr>\n",
              "    <tr>\n",
              "      <th>114</th>\n",
              "      <td>female</td>\n",
              "      <td>group E</td>\n",
              "      <td>bachelor's degree</td>\n",
              "      <td>standard</td>\n",
              "      <td>completed</td>\n",
              "      <td>99</td>\n",
              "      <td>100</td>\n",
              "      <td>100</td>\n",
              "    </tr>\n",
              "    <tr>\n",
              "      <th>104</th>\n",
              "      <td>male</td>\n",
              "      <td>group C</td>\n",
              "      <td>some college</td>\n",
              "      <td>standard</td>\n",
              "      <td>completed</td>\n",
              "      <td>98</td>\n",
              "      <td>86</td>\n",
              "      <td>90</td>\n",
              "    </tr>\n",
              "    <tr>\n",
              "      <th>934</th>\n",
              "      <td>male</td>\n",
              "      <td>group C</td>\n",
              "      <td>associate's degree</td>\n",
              "      <td>standard</td>\n",
              "      <td>completed</td>\n",
              "      <td>98</td>\n",
              "      <td>87</td>\n",
              "      <td>90</td>\n",
              "    </tr>\n",
              "    <tr>\n",
              "      <th>712</th>\n",
              "      <td>female</td>\n",
              "      <td>group D</td>\n",
              "      <td>some college</td>\n",
              "      <td>standard</td>\n",
              "      <td>none</td>\n",
              "      <td>98</td>\n",
              "      <td>100</td>\n",
              "      <td>99</td>\n",
              "    </tr>\n",
              "    <tr>\n",
              "      <th>539</th>\n",
              "      <td>male</td>\n",
              "      <td>group A</td>\n",
              "      <td>associate's degree</td>\n",
              "      <td>standard</td>\n",
              "      <td>completed</td>\n",
              "      <td>97</td>\n",
              "      <td>92</td>\n",
              "      <td>86</td>\n",
              "    </tr>\n",
              "    <tr>\n",
              "      <th>855</th>\n",
              "      <td>female</td>\n",
              "      <td>group B</td>\n",
              "      <td>bachelor's degree</td>\n",
              "      <td>standard</td>\n",
              "      <td>none</td>\n",
              "      <td>97</td>\n",
              "      <td>97</td>\n",
              "      <td>96</td>\n",
              "    </tr>\n",
              "    <tr>\n",
              "      <th>179</th>\n",
              "      <td>female</td>\n",
              "      <td>group D</td>\n",
              "      <td>some high school</td>\n",
              "      <td>standard</td>\n",
              "      <td>completed</td>\n",
              "      <td>97</td>\n",
              "      <td>100</td>\n",
              "      <td>100</td>\n",
              "    </tr>\n",
              "    <tr>\n",
              "      <th>864</th>\n",
              "      <td>male</td>\n",
              "      <td>group C</td>\n",
              "      <td>associate's degree</td>\n",
              "      <td>standard</td>\n",
              "      <td>none</td>\n",
              "      <td>97</td>\n",
              "      <td>93</td>\n",
              "      <td>91</td>\n",
              "    </tr>\n",
              "    <tr>\n",
              "      <th>286</th>\n",
              "      <td>male</td>\n",
              "      <td>group E</td>\n",
              "      <td>associate's degree</td>\n",
              "      <td>standard</td>\n",
              "      <td>completed</td>\n",
              "      <td>97</td>\n",
              "      <td>82</td>\n",
              "      <td>88</td>\n",
              "    </tr>\n",
              "    <tr>\n",
              "      <th>34</th>\n",
              "      <td>male</td>\n",
              "      <td>group E</td>\n",
              "      <td>some college</td>\n",
              "      <td>standard</td>\n",
              "      <td>none</td>\n",
              "      <td>97</td>\n",
              "      <td>87</td>\n",
              "      <td>82</td>\n",
              "    </tr>\n",
              "    <tr>\n",
              "      <th>562</th>\n",
              "      <td>male</td>\n",
              "      <td>group C</td>\n",
              "      <td>bachelor's degree</td>\n",
              "      <td>standard</td>\n",
              "      <td>completed</td>\n",
              "      <td>96</td>\n",
              "      <td>90</td>\n",
              "      <td>92</td>\n",
              "    </tr>\n",
              "  </tbody>\n",
              "</table>\n",
              "</div>"
            ],
            "text/plain": [
              "     gender race/ethnicity  ... reading score writing score\n",
              "962  female        group E  ...           100           100\n",
              "625    male        group D  ...            97            99\n",
              "458  female        group E  ...           100           100\n",
              "623    male        group A  ...            96            86\n",
              "451  female        group E  ...            92            97\n",
              "149    male        group E  ...           100            93\n",
              "916    male        group E  ...           100           100\n",
              "263  female        group E  ...            93            90\n",
              "306    male        group E  ...            87            81\n",
              "114  female        group E  ...           100           100\n",
              "104    male        group C  ...            86            90\n",
              "934    male        group C  ...            87            90\n",
              "712  female        group D  ...           100            99\n",
              "539    male        group A  ...            92            86\n",
              "855  female        group B  ...            97            96\n",
              "179  female        group D  ...           100           100\n",
              "864    male        group C  ...            93            91\n",
              "286    male        group E  ...            82            88\n",
              "34     male        group E  ...            87            82\n",
              "562    male        group C  ...            90            92\n",
              "\n",
              "[20 rows x 8 columns]"
            ]
          },
          "metadata": {},
          "execution_count": 30
        }
      ]
    },
    {
      "cell_type": "code",
      "metadata": {
        "colab": {
          "base_uri": "https://localhost:8080/",
          "height": 296
        },
        "id": "6QOCUsZoAxNK",
        "outputId": "5be9f8ae-e0af-4ca2-9620-d7d62bdc5e85"
      },
      "source": [
        "sns.boxplot(data=df,x='math score',y='race/ethnicity')"
      ],
      "execution_count": 31,
      "outputs": [
        {
          "output_type": "execute_result",
          "data": {
            "text/plain": [
              "<matplotlib.axes._subplots.AxesSubplot at 0x7fe3c1e7b150>"
            ]
          },
          "metadata": {},
          "execution_count": 31
        },
        {
          "output_type": "display_data",
          "data": {
            "image/png": "[encoded data removed]",
            "text/plain": [
              "<Figure size 432x288 with 1 Axes>"
            ]
          },
          "metadata": {
            "needs_background": "light"
          }
        }
      ]
    },
    {
      "cell_type": "code",
      "metadata": {
        "id": "wuFC7ZyICrjh"
      },
      "source": [
        "x=df.drop('math score',axis=1)\n",
        "y=df['math score']\n"
      ],
      "execution_count": 32,
      "outputs": []
    },
    {
      "cell_type": "code",
      "metadata": {
        "colab": {
          "base_uri": "https://localhost:8080/",
          "height": 436
        },
        "id": "WH9p5iPFDWja",
        "outputId": "a234fcee-5fa5-488d-d39c-de053f69130e"
      },
      "source": [
        "x"
      ],
      "execution_count": 33,
      "outputs": [
        {
          "output_type": "execute_result",
          "data": {
            "text/html": [
              "<div>\n",
              "<style scoped>\n",
              "    .dataframe tbody tr th:only-of-type {\n",
              "        vertical-align: middle;\n",
              "    }\n",
              "\n",
              "    .dataframe tbody tr th {\n",
              "        vertical-align: top;\n",
              "    }\n",
              "\n",
              "    .dataframe thead th {\n",
              "        text-align: right;\n",
              "    }\n",
              "</style>\n",
              "<table border=\"1\" class=\"dataframe\">\n",
              "  <thead>\n",
              "    <tr style=\"text-align: right;\">\n",
              "      <th></th>\n",
              "      <th>gender</th>\n",
              "      <th>race/ethnicity</th>\n",
              "      <th>parental level of education</th>\n",
              "      <th>lunch</th>\n",
              "      <th>test preparation course</th>\n",
              "      <th>reading score</th>\n",
              "      <th>writing score</th>\n",
              "    </tr>\n",
              "  </thead>\n",
              "  <tbody>\n",
              "    <tr>\n",
              "      <th>0</th>\n",
              "      <td>female</td>\n",
              "      <td>group B</td>\n",
              "      <td>bachelor's degree</td>\n",
              "      <td>standard</td>\n",
              "      <td>none</td>\n",
              "      <td>72</td>\n",
              "      <td>74</td>\n",
              "    </tr>\n",
              "    <tr>\n",
              "      <th>1</th>\n",
              "      <td>female</td>\n",
              "      <td>group C</td>\n",
              "      <td>some college</td>\n",
              "      <td>standard</td>\n",
              "      <td>completed</td>\n",
              "      <td>90</td>\n",
              "      <td>88</td>\n",
              "    </tr>\n",
              "    <tr>\n",
              "      <th>2</th>\n",
              "      <td>female</td>\n",
              "      <td>group B</td>\n",
              "      <td>master's degree</td>\n",
              "      <td>standard</td>\n",
              "      <td>none</td>\n",
              "      <td>95</td>\n",
              "      <td>93</td>\n",
              "    </tr>\n",
              "    <tr>\n",
              "      <th>3</th>\n",
              "      <td>male</td>\n",
              "      <td>group A</td>\n",
              "      <td>associate's degree</td>\n",
              "      <td>free/reduced</td>\n",
              "      <td>none</td>\n",
              "      <td>57</td>\n",
              "      <td>44</td>\n",
              "    </tr>\n",
              "    <tr>\n",
              "      <th>4</th>\n",
              "      <td>male</td>\n",
              "      <td>group C</td>\n",
              "      <td>some college</td>\n",
              "      <td>standard</td>\n",
              "      <td>none</td>\n",
              "      <td>78</td>\n",
              "      <td>75</td>\n",
              "    </tr>\n",
              "    <tr>\n",
              "      <th>...</th>\n",
              "      <td>...</td>\n",
              "      <td>...</td>\n",
              "      <td>...</td>\n",
              "      <td>...</td>\n",
              "      <td>...</td>\n",
              "      <td>...</td>\n",
              "      <td>...</td>\n",
              "    </tr>\n",
              "    <tr>\n",
              "      <th>995</th>\n",
              "      <td>female</td>\n",
              "      <td>group E</td>\n",
              "      <td>master's degree</td>\n",
              "      <td>standard</td>\n",
              "      <td>completed</td>\n",
              "      <td>99</td>\n",
              "      <td>95</td>\n",
              "    </tr>\n",
              "    <tr>\n",
              "      <th>996</th>\n",
              "      <td>male</td>\n",
              "      <td>group C</td>\n",
              "      <td>high school</td>\n",
              "      <td>free/reduced</td>\n",
              "      <td>none</td>\n",
              "      <td>55</td>\n",
              "      <td>55</td>\n",
              "    </tr>\n",
              "    <tr>\n",
              "      <th>997</th>\n",
              "      <td>female</td>\n",
              "      <td>group C</td>\n",
              "      <td>high school</td>\n",
              "      <td>free/reduced</td>\n",
              "      <td>completed</td>\n",
              "      <td>71</td>\n",
              "      <td>65</td>\n",
              "    </tr>\n",
              "    <tr>\n",
              "      <th>998</th>\n",
              "      <td>female</td>\n",
              "      <td>group D</td>\n",
              "      <td>some college</td>\n",
              "      <td>standard</td>\n",
              "      <td>completed</td>\n",
              "      <td>78</td>\n",
              "      <td>77</td>\n",
              "    </tr>\n",
              "    <tr>\n",
              "      <th>999</th>\n",
              "      <td>female</td>\n",
              "      <td>group D</td>\n",
              "      <td>some college</td>\n",
              "      <td>free/reduced</td>\n",
              "      <td>none</td>\n",
              "      <td>86</td>\n",
              "      <td>86</td>\n",
              "    </tr>\n",
              "  </tbody>\n",
              "</table>\n",
              "<p>1000 rows × 7 columns</p>\n",
              "</div>"
            ],
            "text/plain": [
              "     gender race/ethnicity  ... reading score writing score\n",
              "0    female        group B  ...            72            74\n",
              "1    female        group C  ...            90            88\n",
              "2    female        group B  ...            95            93\n",
              "3      male        group A  ...            57            44\n",
              "4      male        group C  ...            78            75\n",
              "..      ...            ...  ...           ...           ...\n",
              "995  female        group E  ...            99            95\n",
              "996    male        group C  ...            55            55\n",
              "997  female        group C  ...            71            65\n",
              "998  female        group D  ...            78            77\n",
              "999  female        group D  ...            86            86\n",
              "\n",
              "[1000 rows x 7 columns]"
            ]
          },
          "metadata": {},
          "execution_count": 33
        }
      ]
    },
    {
      "cell_type": "code",
      "metadata": {
        "colab": {
          "base_uri": "https://localhost:8080/"
        },
        "id": "PMhuQ2CWDXC7",
        "outputId": "9be23f70-8826-4314-fb6b-6d357fe00118"
      },
      "source": [
        "y"
      ],
      "execution_count": 34,
      "outputs": [
        {
          "output_type": "execute_result",
          "data": {
            "text/plain": [
              "0      72\n",
              "1      69\n",
              "2      90\n",
              "3      47\n",
              "4      76\n",
              "       ..\n",
              "995    88\n",
              "996    62\n",
              "997    59\n",
              "998    68\n",
              "999    77\n",
              "Name: math score, Length: 1000, dtype: int64"
            ]
          },
          "metadata": {},
          "execution_count": 34
        }
      ]
    },
    {
      "cell_type": "code",
      "metadata": {
        "id": "nO_mbHuIDZGL"
      },
      "source": [
        "from sklearn.preprocessing import LabelEncoder"
      ],
      "execution_count": 35,
      "outputs": []
    },
    {
      "cell_type": "code",
      "metadata": {
        "id": "fwgwWbqED5X_"
      },
      "source": [
        "le=LabelEncoder()\n"
      ],
      "execution_count": 36,
      "outputs": []
    },
    {
      "cell_type": "code",
      "metadata": {
        "id": "5EsflLM7D9wP"
      },
      "source": [
        "x['gender']=le.fit_transform(x['gender'])\n",
        "x['race/ethnicity']=le.fit_transform(x['race/ethnicity'])\n",
        "x['parental level of education']=le.fit_transform(x['parental level of education'])\n",
        "x['lunch']=le.fit_transform(x['lunch'])\n",
        "x['test preparation course']=le.fit_transform(x['test preparation course'])"
      ],
      "execution_count": 37,
      "outputs": []
    },
    {
      "cell_type": "code",
      "metadata": {
        "colab": {
          "base_uri": "https://localhost:8080/",
          "height": 419
        },
        "id": "TkixNBaUEqr2",
        "outputId": "9bc929f0-0a06-46b3-e8b4-fc1fbe54c46d"
      },
      "source": [
        "x"
      ],
      "execution_count": 38,
      "outputs": [
        {
          "output_type": "execute_result",
          "data": {
            "text/html": [
              "<div>\n",
              "<style scoped>\n",
              "    .dataframe tbody tr th:only-of-type {\n",
              "        vertical-align: middle;\n",
              "    }\n",
              "\n",
              "    .dataframe tbody tr th {\n",
              "        vertical-align: top;\n",
              "    }\n",
              "\n",
              "    .dataframe thead th {\n",
              "        text-align: right;\n",
              "    }\n",
              "</style>\n",
              "<table border=\"1\" class=\"dataframe\">\n",
              "  <thead>\n",
              "    <tr style=\"text-align: right;\">\n",
              "      <th></th>\n",
              "      <th>gender</th>\n",
              "      <th>race/ethnicity</th>\n",
              "      <th>parental level of education</th>\n",
              "      <th>lunch</th>\n",
              "      <th>test preparation course</th>\n",
              "      <th>reading score</th>\n",
              "      <th>writing score</th>\n",
              "    </tr>\n",
              "  </thead>\n",
              "  <tbody>\n",
              "    <tr>\n",
              "      <th>0</th>\n",
              "      <td>0</td>\n",
              "      <td>1</td>\n",
              "      <td>1</td>\n",
              "      <td>1</td>\n",
              "      <td>1</td>\n",
              "      <td>72</td>\n",
              "      <td>74</td>\n",
              "    </tr>\n",
              "    <tr>\n",
              "      <th>1</th>\n",
              "      <td>0</td>\n",
              "      <td>2</td>\n",
              "      <td>4</td>\n",
              "      <td>1</td>\n",
              "      <td>0</td>\n",
              "      <td>90</td>\n",
              "      <td>88</td>\n",
              "    </tr>\n",
              "    <tr>\n",
              "      <th>2</th>\n",
              "      <td>0</td>\n",
              "      <td>1</td>\n",
              "      <td>3</td>\n",
              "      <td>1</td>\n",
              "      <td>1</td>\n",
              "      <td>95</td>\n",
              "      <td>93</td>\n",
              "    </tr>\n",
              "    <tr>\n",
              "      <th>3</th>\n",
              "      <td>1</td>\n",
              "      <td>0</td>\n",
              "      <td>0</td>\n",
              "      <td>0</td>\n",
              "      <td>1</td>\n",
              "      <td>57</td>\n",
              "      <td>44</td>\n",
              "    </tr>\n",
              "    <tr>\n",
              "      <th>4</th>\n",
              "      <td>1</td>\n",
              "      <td>2</td>\n",
              "      <td>4</td>\n",
              "      <td>1</td>\n",
              "      <td>1</td>\n",
              "      <td>78</td>\n",
              "      <td>75</td>\n",
              "    </tr>\n",
              "    <tr>\n",
              "      <th>...</th>\n",
              "      <td>...</td>\n",
              "      <td>...</td>\n",
              "      <td>...</td>\n",
              "      <td>...</td>\n",
              "      <td>...</td>\n",
              "      <td>...</td>\n",
              "      <td>...</td>\n",
              "    </tr>\n",
              "    <tr>\n",
              "      <th>995</th>\n",
              "      <td>0</td>\n",
              "      <td>4</td>\n",
              "      <td>3</td>\n",
              "      <td>1</td>\n",
              "      <td>0</td>\n",
              "      <td>99</td>\n",
              "      <td>95</td>\n",
              "    </tr>\n",
              "    <tr>\n",
              "      <th>996</th>\n",
              "      <td>1</td>\n",
              "      <td>2</td>\n",
              "      <td>2</td>\n",
              "      <td>0</td>\n",
              "      <td>1</td>\n",
              "      <td>55</td>\n",
              "      <td>55</td>\n",
              "    </tr>\n",
              "    <tr>\n",
              "      <th>997</th>\n",
              "      <td>0</td>\n",
              "      <td>2</td>\n",
              "      <td>2</td>\n",
              "      <td>0</td>\n",
              "      <td>0</td>\n",
              "      <td>71</td>\n",
              "      <td>65</td>\n",
              "    </tr>\n",
              "    <tr>\n",
              "      <th>998</th>\n",
              "      <td>0</td>\n",
              "      <td>3</td>\n",
              "      <td>4</td>\n",
              "      <td>1</td>\n",
              "      <td>0</td>\n",
              "      <td>78</td>\n",
              "      <td>77</td>\n",
              "    </tr>\n",
              "    <tr>\n",
              "      <th>999</th>\n",
              "      <td>0</td>\n",
              "      <td>3</td>\n",
              "      <td>4</td>\n",
              "      <td>0</td>\n",
              "      <td>1</td>\n",
              "      <td>86</td>\n",
              "      <td>86</td>\n",
              "    </tr>\n",
              "  </tbody>\n",
              "</table>\n",
              "<p>1000 rows × 7 columns</p>\n",
              "</div>"
            ],
            "text/plain": [
              "     gender  race/ethnicity  ...  reading score  writing score\n",
              "0         0               1  ...             72             74\n",
              "1         0               2  ...             90             88\n",
              "2         0               1  ...             95             93\n",
              "3         1               0  ...             57             44\n",
              "4         1               2  ...             78             75\n",
              "..      ...             ...  ...            ...            ...\n",
              "995       0               4  ...             99             95\n",
              "996       1               2  ...             55             55\n",
              "997       0               2  ...             71             65\n",
              "998       0               3  ...             78             77\n",
              "999       0               3  ...             86             86\n",
              "\n",
              "[1000 rows x 7 columns]"
            ]
          },
          "metadata": {},
          "execution_count": 38
        }
      ]
    },
    {
      "cell_type": "code",
      "metadata": {
        "id": "9_BTGYURFBDV"
      },
      "source": [
        "from sklearn.preprocessing import StandardScaler\n",
        "sc=StandardScaler()\n",
        "x=sc.fit_transform(x)\n"
      ],
      "execution_count": 39,
      "outputs": []
    },
    {
      "cell_type": "code",
      "metadata": {
        "id": "yH6Wo-WTFaUF"
      },
      "source": [
        "from sklearn.model_selection import train_test_split\n",
        "xtrain,xtest,ytrain,ytest= train_test_split(x,y,test_size=0.3,random_state=1)"
      ],
      "execution_count": 40,
      "outputs": []
    },
    {
      "cell_type": "code",
      "metadata": {
        "id": "0r4qtQQeJNxL"
      },
      "source": [
        ""
      ],
      "execution_count": 40,
      "outputs": []
    },
    {
      "cell_type": "code",
      "metadata": {
        "id": "uEx15hviFsZV"
      },
      "source": [
        "ann=Sequential()\n",
        "\n",
        "ann.add(Dense(units=7,activation='relu'))\n",
        "ann.add(Dense(units=6,activation='relu'))\n",
        "ann.add(Dense(units=5,activation='relu'))\n",
        "ann.add(Dense(units=1))\n",
        "\n",
        "ann.compile(optimizer='rmsprop',loss='mse')"
      ],
      "execution_count": 41,
      "outputs": []
    },
    {
      "cell_type": "code",
      "metadata": {
        "colab": {
          "base_uri": "https://localhost:8080/"
        },
        "id": "w-U-WhlFGLP0",
        "outputId": "a2dcf996-387c-4ade-b92d-db7a1dee1f77"
      },
      "source": [
        "ann.fit(xtrain,ytrain,epochs=250)"
      ],
      "execution_count": 42,
      "outputs": [
        {
          "output_type": "stream",
          "name": "stdout",
          "text": [
            "Epoch 1/250\n",
            "22/22 [==============================] - 1s 2ms/step - loss: 4638.4453\n",
            "Epoch 2/250\n",
            "22/22 [==============================] - 0s 1ms/step - loss: 4602.4609\n",
            "Epoch 3/250\n",
            "22/22 [==============================] - 0s 1ms/step - loss: 4571.5093\n",
            "Epoch 4/250\n",
            "22/22 [==============================] - 0s 2ms/step - loss: 4540.6792\n",
            "Epoch 5/250\n",
            "22/22 [==============================] - 0s 1ms/step - loss: 4507.2617\n",
            "Epoch 6/250\n",
            "22/22 [==============================] - 0s 2ms/step - loss: 4467.9072\n",
            "Epoch 7/250\n",
            "22/22 [==============================] - 0s 2ms/step - loss: 4422.0674\n",
            "Epoch 8/250\n",
            "22/22 [==============================] - 0s 2ms/step - loss: 4370.8789\n",
            "Epoch 9/250\n",
            "22/22 [==============================] - 0s 2ms/step - loss: 4312.7280\n",
            "Epoch 10/250\n",
            "22/22 [==============================] - 0s 2ms/step - loss: 4247.8516\n",
            "Epoch 11/250\n",
            "22/22 [==============================] - 0s 2ms/step - loss: 4177.1040\n",
            "Epoch 12/250\n",
            "22/22 [==============================] - 0s 2ms/step - loss: 4098.5918\n",
            "Epoch 13/250\n",
            "22/22 [==============================] - 0s 2ms/step - loss: 4011.0493\n",
            "Epoch 14/250\n",
            "22/22 [==============================] - 0s 2ms/step - loss: 3910.3694\n",
            "Epoch 15/250\n",
            "22/22 [==============================] - 0s 2ms/step - loss: 3799.9307\n",
            "Epoch 16/250\n",
            "22/22 [==============================] - 0s 2ms/step - loss: 3679.5410\n",
            "Epoch 17/250\n",
            "22/22 [==============================] - 0s 2ms/step - loss: 3545.9460\n",
            "Epoch 18/250\n",
            "22/22 [==============================] - 0s 1ms/step - loss: 3399.1885\n",
            "Epoch 19/250\n",
            "22/22 [==============================] - 0s 1ms/step - loss: 3237.9639\n",
            "Epoch 20/250\n",
            "22/22 [==============================] - 0s 2ms/step - loss: 3062.9771\n",
            "Epoch 21/250\n",
            "22/22 [==============================] - 0s 1ms/step - loss: 2875.3645\n",
            "Epoch 22/250\n",
            "22/22 [==============================] - 0s 1ms/step - loss: 2676.7158\n",
            "Epoch 23/250\n",
            "22/22 [==============================] - 0s 1ms/step - loss: 2468.1228\n",
            "Epoch 24/250\n",
            "22/22 [==============================] - 0s 1ms/step - loss: 2251.7139\n",
            "Epoch 25/250\n",
            "22/22 [==============================] - 0s 1ms/step - loss: 2033.2523\n",
            "Epoch 26/250\n",
            "22/22 [==============================] - 0s 1ms/step - loss: 1815.4254\n",
            "Epoch 27/250\n",
            "22/22 [==============================] - 0s 1ms/step - loss: 1605.7061\n",
            "Epoch 28/250\n",
            "22/22 [==============================] - 0s 2ms/step - loss: 1407.0537\n",
            "Epoch 29/250\n",
            "22/22 [==============================] - 0s 1ms/step - loss: 1225.0105\n",
            "Epoch 30/250\n",
            "22/22 [==============================] - 0s 1ms/step - loss: 1061.8884\n",
            "Epoch 31/250\n",
            "22/22 [==============================] - 0s 2ms/step - loss: 916.8486\n",
            "Epoch 32/250\n",
            "22/22 [==============================] - 0s 2ms/step - loss: 793.1331\n",
            "Epoch 33/250\n",
            "22/22 [==============================] - 0s 1ms/step - loss: 688.5428\n",
            "Epoch 34/250\n",
            "22/22 [==============================] - 0s 1ms/step - loss: 595.2604\n",
            "Epoch 35/250\n",
            "22/22 [==============================] - 0s 2ms/step - loss: 510.3329\n",
            "Epoch 36/250\n",
            "22/22 [==============================] - 0s 2ms/step - loss: 432.9448\n",
            "Epoch 37/250\n",
            "22/22 [==============================] - 0s 2ms/step - loss: 363.2295\n",
            "Epoch 38/250\n",
            "22/22 [==============================] - 0s 2ms/step - loss: 304.6006\n",
            "Epoch 39/250\n",
            "22/22 [==============================] - 0s 2ms/step - loss: 254.3587\n",
            "Epoch 40/250\n",
            "22/22 [==============================] - 0s 2ms/step - loss: 214.8709\n",
            "Epoch 41/250\n",
            "22/22 [==============================] - 0s 2ms/step - loss: 185.3667\n",
            "Epoch 42/250\n",
            "22/22 [==============================] - 0s 2ms/step - loss: 163.6653\n",
            "Epoch 43/250\n",
            "22/22 [==============================] - 0s 2ms/step - loss: 148.1359\n",
            "Epoch 44/250\n",
            "22/22 [==============================] - 0s 2ms/step - loss: 136.3865\n",
            "Epoch 45/250\n",
            "22/22 [==============================] - 0s 1ms/step - loss: 126.9427\n",
            "Epoch 46/250\n",
            "22/22 [==============================] - 0s 1ms/step - loss: 119.1755\n",
            "Epoch 47/250\n",
            "22/22 [==============================] - 0s 1ms/step - loss: 112.7552\n",
            "Epoch 48/250\n",
            "22/22 [==============================] - 0s 1ms/step - loss: 107.0788\n",
            "Epoch 49/250\n",
            "22/22 [==============================] - 0s 1ms/step - loss: 102.0242\n",
            "Epoch 50/250\n",
            "22/22 [==============================] - 0s 2ms/step - loss: 97.7148\n",
            "Epoch 51/250\n",
            "22/22 [==============================] - 0s 1ms/step - loss: 93.4634\n",
            "Epoch 52/250\n",
            "22/22 [==============================] - 0s 1ms/step - loss: 89.2959\n",
            "Epoch 53/250\n",
            "22/22 [==============================] - 0s 2ms/step - loss: 85.6303\n",
            "Epoch 54/250\n",
            "22/22 [==============================] - 0s 1ms/step - loss: 82.4209\n",
            "Epoch 55/250\n",
            "22/22 [==============================] - 0s 1ms/step - loss: 79.6002\n",
            "Epoch 56/250\n",
            "22/22 [==============================] - 0s 2ms/step - loss: 76.9166\n",
            "Epoch 57/250\n",
            "22/22 [==============================] - 0s 2ms/step - loss: 74.2848\n",
            "Epoch 58/250\n",
            "22/22 [==============================] - 0s 2ms/step - loss: 71.9427\n",
            "Epoch 59/250\n",
            "22/22 [==============================] - 0s 1ms/step - loss: 69.4023\n",
            "Epoch 60/250\n",
            "22/22 [==============================] - 0s 2ms/step - loss: 67.1056\n",
            "Epoch 61/250\n",
            "22/22 [==============================] - 0s 1ms/step - loss: 64.9254\n",
            "Epoch 62/250\n",
            "22/22 [==============================] - 0s 2ms/step - loss: 62.8553\n",
            "Epoch 63/250\n",
            "22/22 [==============================] - 0s 2ms/step - loss: 60.9771\n",
            "Epoch 64/250\n",
            "22/22 [==============================] - 0s 1ms/step - loss: 59.2009\n",
            "Epoch 65/250\n",
            "22/22 [==============================] - 0s 1ms/step - loss: 57.4058\n",
            "Epoch 66/250\n",
            "22/22 [==============================] - 0s 2ms/step - loss: 55.9652\n",
            "Epoch 67/250\n",
            "22/22 [==============================] - 0s 2ms/step - loss: 54.5062\n",
            "Epoch 68/250\n",
            "22/22 [==============================] - 0s 1ms/step - loss: 53.2430\n",
            "Epoch 69/250\n",
            "22/22 [==============================] - 0s 2ms/step - loss: 52.0388\n",
            "Epoch 70/250\n",
            "22/22 [==============================] - 0s 1ms/step - loss: 50.9402\n",
            "Epoch 71/250\n",
            "22/22 [==============================] - 0s 1ms/step - loss: 49.8672\n",
            "Epoch 72/250\n",
            "22/22 [==============================] - 0s 2ms/step - loss: 48.7697\n",
            "Epoch 73/250\n",
            "22/22 [==============================] - 0s 1ms/step - loss: 47.9540\n",
            "Epoch 74/250\n",
            "22/22 [==============================] - 0s 2ms/step - loss: 46.9333\n",
            "Epoch 75/250\n",
            "22/22 [==============================] - 0s 2ms/step - loss: 46.1009\n",
            "Epoch 76/250\n",
            "22/22 [==============================] - 0s 2ms/step - loss: 45.0381\n",
            "Epoch 77/250\n",
            "22/22 [==============================] - 0s 1ms/step - loss: 44.5090\n",
            "Epoch 78/250\n",
            "22/22 [==============================] - 0s 2ms/step - loss: 43.8774\n",
            "Epoch 79/250\n",
            "22/22 [==============================] - 0s 2ms/step - loss: 43.3034\n",
            "Epoch 80/250\n",
            "22/22 [==============================] - 0s 2ms/step - loss: 42.6741\n",
            "Epoch 81/250\n",
            "22/22 [==============================] - 0s 2ms/step - loss: 42.0822\n",
            "Epoch 82/250\n",
            "22/22 [==============================] - 0s 2ms/step - loss: 41.7223\n",
            "Epoch 83/250\n",
            "22/22 [==============================] - 0s 1ms/step - loss: 41.0578\n",
            "Epoch 84/250\n",
            "22/22 [==============================] - 0s 1ms/step - loss: 40.3658\n",
            "Epoch 85/250\n",
            "22/22 [==============================] - 0s 1ms/step - loss: 40.0955\n",
            "Epoch 86/250\n",
            "22/22 [==============================] - 0s 2ms/step - loss: 39.4016\n",
            "Epoch 87/250\n",
            "22/22 [==============================] - 0s 2ms/step - loss: 39.1631\n",
            "Epoch 88/250\n",
            "22/22 [==============================] - 0s 1ms/step - loss: 38.6052\n",
            "Epoch 89/250\n",
            "22/22 [==============================] - 0s 1ms/step - loss: 38.2622\n",
            "Epoch 90/250\n",
            "22/22 [==============================] - 0s 2ms/step - loss: 38.0671\n",
            "Epoch 91/250\n",
            "22/22 [==============================] - 0s 2ms/step - loss: 37.5213\n",
            "Epoch 92/250\n",
            "22/22 [==============================] - 0s 2ms/step - loss: 37.2821\n",
            "Epoch 93/250\n",
            "22/22 [==============================] - 0s 2ms/step - loss: 36.9700\n",
            "Epoch 94/250\n",
            "22/22 [==============================] - 0s 1ms/step - loss: 36.6629\n",
            "Epoch 95/250\n",
            "22/22 [==============================] - 0s 1ms/step - loss: 36.3413\n",
            "Epoch 96/250\n",
            "22/22 [==============================] - 0s 1ms/step - loss: 36.2085\n",
            "Epoch 97/250\n",
            "22/22 [==============================] - 0s 1ms/step - loss: 35.7090\n",
            "Epoch 98/250\n",
            "22/22 [==============================] - 0s 2ms/step - loss: 35.6152\n",
            "Epoch 99/250\n",
            "22/22 [==============================] - 0s 1ms/step - loss: 35.5235\n",
            "Epoch 100/250\n",
            "22/22 [==============================] - 0s 2ms/step - loss: 35.1043\n",
            "Epoch 101/250\n",
            "22/22 [==============================] - 0s 2ms/step - loss: 35.0599\n",
            "Epoch 102/250\n",
            "22/22 [==============================] - 0s 2ms/step - loss: 34.6702\n",
            "Epoch 103/250\n",
            "22/22 [==============================] - 0s 1ms/step - loss: 34.8728\n",
            "Epoch 104/250\n",
            "22/22 [==============================] - 0s 2ms/step - loss: 34.5586\n",
            "Epoch 105/250\n",
            "22/22 [==============================] - 0s 2ms/step - loss: 34.5016\n",
            "Epoch 106/250\n",
            "22/22 [==============================] - 0s 2ms/step - loss: 34.3774\n",
            "Epoch 107/250\n",
            "22/22 [==============================] - 0s 2ms/step - loss: 34.0436\n",
            "Epoch 108/250\n",
            "22/22 [==============================] - 0s 2ms/step - loss: 34.0389\n",
            "Epoch 109/250\n",
            "22/22 [==============================] - 0s 1ms/step - loss: 33.8916\n",
            "Epoch 110/250\n",
            "22/22 [==============================] - 0s 1ms/step - loss: 33.9508\n",
            "Epoch 111/250\n",
            "22/22 [==============================] - 0s 2ms/step - loss: 33.6512\n",
            "Epoch 112/250\n",
            "22/22 [==============================] - 0s 2ms/step - loss: 33.7258\n",
            "Epoch 113/250\n",
            "22/22 [==============================] - 0s 1ms/step - loss: 33.5072\n",
            "Epoch 114/250\n",
            "22/22 [==============================] - 0s 1ms/step - loss: 33.4209\n",
            "Epoch 115/250\n",
            "22/22 [==============================] - 0s 2ms/step - loss: 33.3028\n",
            "Epoch 116/250\n",
            "22/22 [==============================] - 0s 2ms/step - loss: 33.2086\n",
            "Epoch 117/250\n",
            "22/22 [==============================] - 0s 2ms/step - loss: 33.1163\n",
            "Epoch 118/250\n",
            "22/22 [==============================] - 0s 1ms/step - loss: 33.0126\n",
            "Epoch 119/250\n",
            "22/22 [==============================] - 0s 1ms/step - loss: 32.9723\n",
            "Epoch 120/250\n",
            "22/22 [==============================] - 0s 1ms/step - loss: 32.7455\n",
            "Epoch 121/250\n",
            "22/22 [==============================] - 0s 1ms/step - loss: 32.7224\n",
            "Epoch 122/250\n",
            "22/22 [==============================] - 0s 2ms/step - loss: 32.6545\n",
            "Epoch 123/250\n",
            "22/22 [==============================] - 0s 2ms/step - loss: 32.6041\n",
            "Epoch 124/250\n",
            "22/22 [==============================] - 0s 2ms/step - loss: 32.4169\n",
            "Epoch 125/250\n",
            "22/22 [==============================] - 0s 2ms/step - loss: 32.4191\n",
            "Epoch 126/250\n",
            "22/22 [==============================] - 0s 1ms/step - loss: 32.2892\n",
            "Epoch 127/250\n",
            "22/22 [==============================] - 0s 2ms/step - loss: 32.2370\n",
            "Epoch 128/250\n",
            "22/22 [==============================] - 0s 2ms/step - loss: 31.9628\n",
            "Epoch 129/250\n",
            "22/22 [==============================] - 0s 1ms/step - loss: 32.2480\n",
            "Epoch 130/250\n",
            "22/22 [==============================] - 0s 2ms/step - loss: 32.0022\n",
            "Epoch 131/250\n",
            "22/22 [==============================] - 0s 2ms/step - loss: 31.8557\n",
            "Epoch 132/250\n",
            "22/22 [==============================] - 0s 2ms/step - loss: 32.1499\n",
            "Epoch 133/250\n",
            "22/22 [==============================] - 0s 1ms/step - loss: 31.8813\n",
            "Epoch 134/250\n",
            "22/22 [==============================] - 0s 2ms/step - loss: 31.9537\n",
            "Epoch 135/250\n",
            "22/22 [==============================] - 0s 2ms/step - loss: 31.7367\n",
            "Epoch 136/250\n",
            "22/22 [==============================] - 0s 2ms/step - loss: 31.8554\n",
            "Epoch 137/250\n",
            "22/22 [==============================] - 0s 2ms/step - loss: 31.7219\n",
            "Epoch 138/250\n",
            "22/22 [==============================] - 0s 2ms/step - loss: 31.8016\n",
            "Epoch 139/250\n",
            "22/22 [==============================] - 0s 2ms/step - loss: 31.6568\n",
            "Epoch 140/250\n",
            "22/22 [==============================] - 0s 2ms/step - loss: 31.6248\n",
            "Epoch 141/250\n",
            "22/22 [==============================] - 0s 1ms/step - loss: 31.5810\n",
            "Epoch 142/250\n",
            "22/22 [==============================] - 0s 2ms/step - loss: 31.5757\n",
            "Epoch 143/250\n",
            "22/22 [==============================] - 0s 2ms/step - loss: 31.5632\n",
            "Epoch 144/250\n",
            "22/22 [==============================] - 0s 2ms/step - loss: 31.4140\n",
            "Epoch 145/250\n",
            "22/22 [==============================] - 0s 2ms/step - loss: 31.4253\n",
            "Epoch 146/250\n",
            "22/22 [==============================] - 0s 2ms/step - loss: 31.3582\n",
            "Epoch 147/250\n",
            "22/22 [==============================] - 0s 1ms/step - loss: 31.3392\n",
            "Epoch 148/250\n",
            "22/22 [==============================] - 0s 1ms/step - loss: 31.2645\n",
            "Epoch 149/250\n",
            "22/22 [==============================] - 0s 1ms/step - loss: 31.3317\n",
            "Epoch 150/250\n",
            "22/22 [==============================] - 0s 2ms/step - loss: 31.2326\n",
            "Epoch 151/250\n",
            "22/22 [==============================] - 0s 1ms/step - loss: 31.1977\n",
            "Epoch 152/250\n",
            "22/22 [==============================] - 0s 2ms/step - loss: 31.1097\n",
            "Epoch 153/250\n",
            "22/22 [==============================] - 0s 1ms/step - loss: 31.1990\n",
            "Epoch 154/250\n",
            "22/22 [==============================] - 0s 2ms/step - loss: 31.1258\n",
            "Epoch 155/250\n",
            "22/22 [==============================] - 0s 2ms/step - loss: 31.0405\n",
            "Epoch 156/250\n",
            "22/22 [==============================] - 0s 1ms/step - loss: 31.0814\n",
            "Epoch 157/250\n",
            "22/22 [==============================] - 0s 2ms/step - loss: 30.9503\n",
            "Epoch 158/250\n",
            "22/22 [==============================] - 0s 2ms/step - loss: 31.0266\n",
            "Epoch 159/250\n",
            "22/22 [==============================] - 0s 1ms/step - loss: 30.8974\n",
            "Epoch 160/250\n",
            "22/22 [==============================] - 0s 1ms/step - loss: 30.9692\n",
            "Epoch 161/250\n",
            "22/22 [==============================] - 0s 1ms/step - loss: 30.9355\n",
            "Epoch 162/250\n",
            "22/22 [==============================] - 0s 1ms/step - loss: 30.8620\n",
            "Epoch 163/250\n",
            "22/22 [==============================] - 0s 2ms/step - loss: 30.6979\n",
            "Epoch 164/250\n",
            "22/22 [==============================] - 0s 2ms/step - loss: 30.7313\n",
            "Epoch 165/250\n",
            "22/22 [==============================] - 0s 2ms/step - loss: 30.7475\n",
            "Epoch 166/250\n",
            "22/22 [==============================] - 0s 2ms/step - loss: 30.8382\n",
            "Epoch 167/250\n",
            "22/22 [==============================] - 0s 2ms/step - loss: 30.8085\n",
            "Epoch 168/250\n",
            "22/22 [==============================] - 0s 2ms/step - loss: 30.7711\n",
            "Epoch 169/250\n",
            "22/22 [==============================] - 0s 2ms/step - loss: 30.6626\n",
            "Epoch 170/250\n",
            "22/22 [==============================] - 0s 2ms/step - loss: 30.6750\n",
            "Epoch 171/250\n",
            "22/22 [==============================] - 0s 2ms/step - loss: 30.7447\n",
            "Epoch 172/250\n",
            "22/22 [==============================] - 0s 2ms/step - loss: 30.5311\n",
            "Epoch 173/250\n",
            "22/22 [==============================] - 0s 2ms/step - loss: 30.5657\n",
            "Epoch 174/250\n",
            "22/22 [==============================] - 0s 1ms/step - loss: 30.6125\n",
            "Epoch 175/250\n",
            "22/22 [==============================] - 0s 1ms/step - loss: 30.7644\n",
            "Epoch 176/250\n",
            "22/22 [==============================] - 0s 2ms/step - loss: 30.6551\n",
            "Epoch 177/250\n",
            "22/22 [==============================] - 0s 1ms/step - loss: 30.4662\n",
            "Epoch 178/250\n",
            "22/22 [==============================] - 0s 1ms/step - loss: 30.6701\n",
            "Epoch 179/250\n",
            "22/22 [==============================] - 0s 2ms/step - loss: 30.4841\n",
            "Epoch 180/250\n",
            "22/22 [==============================] - 0s 2ms/step - loss: 30.5891\n",
            "Epoch 181/250\n",
            "22/22 [==============================] - 0s 1ms/step - loss: 30.5130\n",
            "Epoch 182/250\n",
            "22/22 [==============================] - 0s 1ms/step - loss: 30.3729\n",
            "Epoch 183/250\n",
            "22/22 [==============================] - 0s 2ms/step - loss: 30.6648\n",
            "Epoch 184/250\n",
            "22/22 [==============================] - 0s 2ms/step - loss: 30.4746\n",
            "Epoch 185/250\n",
            "22/22 [==============================] - 0s 2ms/step - loss: 30.5630\n",
            "Epoch 186/250\n",
            "22/22 [==============================] - 0s 2ms/step - loss: 30.3284\n",
            "Epoch 187/250\n",
            "22/22 [==============================] - 0s 1ms/step - loss: 30.3767\n",
            "Epoch 188/250\n",
            "22/22 [==============================] - 0s 2ms/step - loss: 30.5165\n",
            "Epoch 189/250\n",
            "22/22 [==============================] - 0s 1ms/step - loss: 30.4635\n",
            "Epoch 190/250\n",
            "22/22 [==============================] - 0s 1ms/step - loss: 30.3386\n",
            "Epoch 191/250\n",
            "22/22 [==============================] - 0s 2ms/step - loss: 30.4012\n",
            "Epoch 192/250\n",
            "22/22 [==============================] - 0s 2ms/step - loss: 30.3193\n",
            "Epoch 193/250\n",
            "22/22 [==============================] - 0s 1ms/step - loss: 30.4433\n",
            "Epoch 194/250\n",
            "22/22 [==============================] - 0s 2ms/step - loss: 30.3410\n",
            "Epoch 195/250\n",
            "22/22 [==============================] - 0s 2ms/step - loss: 30.3502\n",
            "Epoch 196/250\n",
            "22/22 [==============================] - 0s 2ms/step - loss: 30.3772\n",
            "Epoch 197/250\n",
            "22/22 [==============================] - 0s 2ms/step - loss: 30.2231\n",
            "Epoch 198/250\n",
            "22/22 [==============================] - 0s 2ms/step - loss: 30.3464\n",
            "Epoch 199/250\n",
            "22/22 [==============================] - 0s 2ms/step - loss: 30.3075\n",
            "Epoch 200/250\n",
            "22/22 [==============================] - 0s 2ms/step - loss: 30.3624\n",
            "Epoch 201/250\n",
            "22/22 [==============================] - 0s 2ms/step - loss: 30.2800\n",
            "Epoch 202/250\n",
            "22/22 [==============================] - 0s 1ms/step - loss: 30.3817\n",
            "Epoch 203/250\n",
            "22/22 [==============================] - 0s 1ms/step - loss: 30.2868\n",
            "Epoch 204/250\n",
            "22/22 [==============================] - 0s 2ms/step - loss: 30.2383\n",
            "Epoch 205/250\n",
            "22/22 [==============================] - 0s 2ms/step - loss: 30.2632\n",
            "Epoch 206/250\n",
            "22/22 [==============================] - 0s 2ms/step - loss: 29.9384\n",
            "Epoch 207/250\n",
            "22/22 [==============================] - 0s 2ms/step - loss: 30.2320\n",
            "Epoch 208/250\n",
            "22/22 [==============================] - 0s 2ms/step - loss: 30.2596\n",
            "Epoch 209/250\n",
            "22/22 [==============================] - 0s 2ms/step - loss: 30.2437\n",
            "Epoch 210/250\n",
            "22/22 [==============================] - 0s 2ms/step - loss: 30.2671\n",
            "Epoch 211/250\n",
            "22/22 [==============================] - 0s 2ms/step - loss: 30.0798\n",
            "Epoch 212/250\n",
            "22/22 [==============================] - 0s 2ms/step - loss: 30.2195\n",
            "Epoch 213/250\n",
            "22/22 [==============================] - 0s 2ms/step - loss: 30.2131\n",
            "Epoch 214/250\n",
            "22/22 [==============================] - 0s 2ms/step - loss: 30.0846\n",
            "Epoch 215/250\n",
            "22/22 [==============================] - 0s 1ms/step - loss: 30.2015\n",
            "Epoch 216/250\n",
            "22/22 [==============================] - 0s 1ms/step - loss: 30.2320\n",
            "Epoch 217/250\n",
            "22/22 [==============================] - 0s 2ms/step - loss: 30.1048\n",
            "Epoch 218/250\n",
            "22/22 [==============================] - 0s 1ms/step - loss: 30.1483\n",
            "Epoch 219/250\n",
            "22/22 [==============================] - 0s 1ms/step - loss: 30.1501\n",
            "Epoch 220/250\n",
            "22/22 [==============================] - 0s 2ms/step - loss: 30.1353\n",
            "Epoch 221/250\n",
            "22/22 [==============================] - 0s 1ms/step - loss: 30.1112\n",
            "Epoch 222/250\n",
            "22/22 [==============================] - 0s 2ms/step - loss: 30.1689\n",
            "Epoch 223/250\n",
            "22/22 [==============================] - 0s 1ms/step - loss: 30.0691\n",
            "Epoch 224/250\n",
            "22/22 [==============================] - 0s 2ms/step - loss: 30.1345\n",
            "Epoch 225/250\n",
            "22/22 [==============================] - 0s 1ms/step - loss: 30.1235\n",
            "Epoch 226/250\n",
            "22/22 [==============================] - 0s 2ms/step - loss: 30.0673\n",
            "Epoch 227/250\n",
            "22/22 [==============================] - 0s 2ms/step - loss: 30.0263\n",
            "Epoch 228/250\n",
            "22/22 [==============================] - 0s 2ms/step - loss: 29.9328\n",
            "Epoch 229/250\n",
            "22/22 [==============================] - 0s 2ms/step - loss: 29.9961\n",
            "Epoch 230/250\n",
            "22/22 [==============================] - 0s 2ms/step - loss: 30.0712\n",
            "Epoch 231/250\n",
            "22/22 [==============================] - 0s 2ms/step - loss: 30.0279\n",
            "Epoch 232/250\n",
            "22/22 [==============================] - 0s 1ms/step - loss: 29.9472\n",
            "Epoch 233/250\n",
            "22/22 [==============================] - 0s 2ms/step - loss: 30.1203\n",
            "Epoch 234/250\n",
            "22/22 [==============================] - 0s 2ms/step - loss: 29.9884\n",
            "Epoch 235/250\n",
            "22/22 [==============================] - 0s 1ms/step - loss: 29.9184\n",
            "Epoch 236/250\n",
            "22/22 [==============================] - 0s 1ms/step - loss: 29.9587\n",
            "Epoch 237/250\n",
            "22/22 [==============================] - 0s 2ms/step - loss: 29.9532\n",
            "Epoch 238/250\n",
            "22/22 [==============================] - 0s 2ms/step - loss: 30.0397\n",
            "Epoch 239/250\n",
            "22/22 [==============================] - 0s 1ms/step - loss: 29.9983\n",
            "Epoch 240/250\n",
            "22/22 [==============================] - 0s 1ms/step - loss: 29.9660\n",
            "Epoch 241/250\n",
            "22/22 [==============================] - 0s 2ms/step - loss: 29.8607\n",
            "Epoch 242/250\n",
            "22/22 [==============================] - 0s 2ms/step - loss: 29.9190\n",
            "Epoch 243/250\n",
            "22/22 [==============================] - 0s 2ms/step - loss: 29.9021\n",
            "Epoch 244/250\n",
            "22/22 [==============================] - 0s 1ms/step - loss: 29.9152\n",
            "Epoch 245/250\n",
            "22/22 [==============================] - 0s 1ms/step - loss: 29.8397\n",
            "Epoch 246/250\n",
            "22/22 [==============================] - 0s 2ms/step - loss: 30.0565\n",
            "Epoch 247/250\n",
            "22/22 [==============================] - 0s 2ms/step - loss: 29.8995\n",
            "Epoch 248/250\n",
            "22/22 [==============================] - 0s 2ms/step - loss: 29.8286\n",
            "Epoch 249/250\n",
            "22/22 [==============================] - 0s 1ms/step - loss: 29.8476\n",
            "Epoch 250/250\n",
            "22/22 [==============================] - 0s 1ms/step - loss: 29.9395\n"
          ]
        },
        {
          "output_type": "execute_result",
          "data": {
            "text/plain": [
              "<keras.callbacks.History at 0x7fe3bacfc790>"
            ]
          },
          "metadata": {},
          "execution_count": 42
        }
      ]
    },
    {
      "cell_type": "code",
      "metadata": {
        "id": "YIJnqIi3GTK0"
      },
      "source": [
        "loss=pd.DataFrame(ann.history.history)"
      ],
      "execution_count": 43,
      "outputs": []
    },
    {
      "cell_type": "code",
      "metadata": {
        "colab": {
          "base_uri": "https://localhost:8080/",
          "height": 204
        },
        "id": "fJEF_Y2RHD4D",
        "outputId": "c7402ff3-3d75-4d8a-bed9-27e006018e68"
      },
      "source": [
        "loss.head()"
      ],
      "execution_count": 44,
      "outputs": [
        {
          "output_type": "execute_result",
          "data": {
            "text/html": [
              "<div>\n",
              "<style scoped>\n",
              "    .dataframe tbody tr th:only-of-type {\n",
              "        vertical-align: middle;\n",
              "    }\n",
              "\n",
              "    .dataframe tbody tr th {\n",
              "        vertical-align: top;\n",
              "    }\n",
              "\n",
              "    .dataframe thead th {\n",
              "        text-align: right;\n",
              "    }\n",
              "</style>\n",
              "<table border=\"1\" class=\"dataframe\">\n",
              "  <thead>\n",
              "    <tr style=\"text-align: right;\">\n",
              "      <th></th>\n",
              "      <th>loss</th>\n",
              "    </tr>\n",
              "  </thead>\n",
              "  <tbody>\n",
              "    <tr>\n",
              "      <th>0</th>\n",
              "      <td>4638.445312</td>\n",
              "    </tr>\n",
              "    <tr>\n",
              "      <th>1</th>\n",
              "      <td>4602.460938</td>\n",
              "    </tr>\n",
              "    <tr>\n",
              "      <th>2</th>\n",
              "      <td>4571.509277</td>\n",
              "    </tr>\n",
              "    <tr>\n",
              "      <th>3</th>\n",
              "      <td>4540.679199</td>\n",
              "    </tr>\n",
              "    <tr>\n",
              "      <th>4</th>\n",
              "      <td>4507.261719</td>\n",
              "    </tr>\n",
              "  </tbody>\n",
              "</table>\n",
              "</div>"
            ],
            "text/plain": [
              "          loss\n",
              "0  4638.445312\n",
              "1  4602.460938\n",
              "2  4571.509277\n",
              "3  4540.679199\n",
              "4  4507.261719"
            ]
          },
          "metadata": {},
          "execution_count": 44
        }
      ]
    },
    {
      "cell_type": "code",
      "metadata": {
        "colab": {
          "base_uri": "https://localhost:8080/",
          "height": 204
        },
        "id": "Ah8w5Kg7HGjz",
        "outputId": "30b1e29b-5867-4668-baeb-55129be72aa0"
      },
      "source": [
        "loss.tail()"
      ],
      "execution_count": 45,
      "outputs": [
        {
          "output_type": "execute_result",
          "data": {
            "text/html": [
              "<div>\n",
              "<style scoped>\n",
              "    .dataframe tbody tr th:only-of-type {\n",
              "        vertical-align: middle;\n",
              "    }\n",
              "\n",
              "    .dataframe tbody tr th {\n",
              "        vertical-align: top;\n",
              "    }\n",
              "\n",
              "    .dataframe thead th {\n",
              "        text-align: right;\n",
              "    }\n",
              "</style>\n",
              "<table border=\"1\" class=\"dataframe\">\n",
              "  <thead>\n",
              "    <tr style=\"text-align: right;\">\n",
              "      <th></th>\n",
              "      <th>loss</th>\n",
              "    </tr>\n",
              "  </thead>\n",
              "  <tbody>\n",
              "    <tr>\n",
              "      <th>245</th>\n",
              "      <td>30.056503</td>\n",
              "    </tr>\n",
              "    <tr>\n",
              "      <th>246</th>\n",
              "      <td>29.899536</td>\n",
              "    </tr>\n",
              "    <tr>\n",
              "      <th>247</th>\n",
              "      <td>29.828583</td>\n",
              "    </tr>\n",
              "    <tr>\n",
              "      <th>248</th>\n",
              "      <td>29.847595</td>\n",
              "    </tr>\n",
              "    <tr>\n",
              "      <th>249</th>\n",
              "      <td>29.939508</td>\n",
              "    </tr>\n",
              "  </tbody>\n",
              "</table>\n",
              "</div>"
            ],
            "text/plain": [
              "          loss\n",
              "245  30.056503\n",
              "246  29.899536\n",
              "247  29.828583\n",
              "248  29.847595\n",
              "249  29.939508"
            ]
          },
          "metadata": {},
          "execution_count": 45
        }
      ]
    },
    {
      "cell_type": "code",
      "metadata": {
        "colab": {
          "base_uri": "https://localhost:8080/",
          "height": 282
        },
        "id": "Q_J7ryNnHJsT",
        "outputId": "02a4b420-4900-4202-90ec-22b5708eaa0c"
      },
      "source": [
        "loss.plot()"
      ],
      "execution_count": 46,
      "outputs": [
        {
          "output_type": "execute_result",
          "data": {
            "text/plain": [
              "<matplotlib.axes._subplots.AxesSubplot at 0x7fe3b9433a50>"
            ]
          },
          "metadata": {},
          "execution_count": 46
        },
        {
          "output_type": "display_data",
          "data": {
            "image/png": "[encoded data removed]",
            "text/plain": [
              "<Figure size 432x288 with 1 Axes>"
            ]
          },
          "metadata": {
            "needs_background": "light"
          }
        }
      ]
    },
    {
      "cell_type": "code",
      "metadata": {
        "colab": {
          "base_uri": "https://localhost:8080/"
        },
        "id": "eH5_WXKFHNGj",
        "outputId": "1d7f1c33-131d-43bd-cdbc-1c12c1930927"
      },
      "source": [
        "ann.evaluate(xtrain,ytrain)"
      ],
      "execution_count": 47,
      "outputs": [
        {
          "output_type": "stream",
          "name": "stdout",
          "text": [
            "22/22 [==============================] - 0s 1ms/step - loss: 29.4427\n"
          ]
        },
        {
          "output_type": "execute_result",
          "data": {
            "text/plain": [
              "29.442691802978516"
            ]
          },
          "metadata": {},
          "execution_count": 47
        }
      ]
    },
    {
      "cell_type": "code",
      "metadata": {
        "colab": {
          "base_uri": "https://localhost:8080/"
        },
        "id": "DeHP2Ve5HWob",
        "outputId": "92291e99-0ba6-431c-ff68-c6f8f000bdc0"
      },
      "source": [
        "ann.evaluate(xtest,ytest)"
      ],
      "execution_count": 48,
      "outputs": [
        {
          "output_type": "stream",
          "name": "stdout",
          "text": [
            "10/10 [==============================] - 0s 2ms/step - loss: 35.9481\n"
          ]
        },
        {
          "output_type": "execute_result",
          "data": {
            "text/plain": [
              "35.94810104370117"
            ]
          },
          "metadata": {},
          "execution_count": 48
        }
      ]
    },
    {
      "cell_type": "code",
      "metadata": {
        "id": "4fS03gJNHcUy"
      },
      "source": [
        "ypred=ann.predict(xtest)"
      ],
      "execution_count": 49,
      "outputs": []
    },
    {
      "cell_type": "code",
      "metadata": {
        "id": "p6GudOlRHfza"
      },
      "source": [
        "dic={\"Actual Y\":ytest , \"Predicted Y\":ypred.flatten()}"
      ],
      "execution_count": 50,
      "outputs": []
    },
    {
      "cell_type": "code",
      "metadata": {
        "id": "1WuAAx0aHi7a"
      },
      "source": [
        "df1=pd.DataFrame(dic)"
      ],
      "execution_count": 51,
      "outputs": []
    },
    {
      "cell_type": "code",
      "metadata": {
        "colab": {
          "base_uri": "https://localhost:8080/",
          "height": 419
        },
        "id": "FtFsiy-qHleq",
        "outputId": "b6742e46-12ba-4c5b-ea7d-4976b1edbfe9"
      },
      "source": [
        "df1"
      ],
      "execution_count": 52,
      "outputs": [
        {
          "output_type": "execute_result",
          "data": {
            "text/html": [
              "<div>\n",
              "<style scoped>\n",
              "    .dataframe tbody tr th:only-of-type {\n",
              "        vertical-align: middle;\n",
              "    }\n",
              "\n",
              "    .dataframe tbody tr th {\n",
              "        vertical-align: top;\n",
              "    }\n",
              "\n",
              "    .dataframe thead th {\n",
              "        text-align: right;\n",
              "    }\n",
              "</style>\n",
              "<table border=\"1\" class=\"dataframe\">\n",
              "  <thead>\n",
              "    <tr style=\"text-align: right;\">\n",
              "      <th></th>\n",
              "      <th>Actual Y</th>\n",
              "      <th>Predicted Y</th>\n",
              "    </tr>\n",
              "  </thead>\n",
              "  <tbody>\n",
              "    <tr>\n",
              "      <th>507</th>\n",
              "      <td>55</td>\n",
              "      <td>59.788567</td>\n",
              "    </tr>\n",
              "    <tr>\n",
              "      <th>818</th>\n",
              "      <td>60</td>\n",
              "      <td>59.938694</td>\n",
              "    </tr>\n",
              "    <tr>\n",
              "      <th>452</th>\n",
              "      <td>65</td>\n",
              "      <td>63.830753</td>\n",
              "    </tr>\n",
              "    <tr>\n",
              "      <th>368</th>\n",
              "      <td>44</td>\n",
              "      <td>51.936440</td>\n",
              "    </tr>\n",
              "    <tr>\n",
              "      <th>242</th>\n",
              "      <td>56</td>\n",
              "      <td>46.548435</td>\n",
              "    </tr>\n",
              "    <tr>\n",
              "      <th>...</th>\n",
              "      <td>...</td>\n",
              "      <td>...</td>\n",
              "    </tr>\n",
              "    <tr>\n",
              "      <th>459</th>\n",
              "      <td>72</td>\n",
              "      <td>67.254494</td>\n",
              "    </tr>\n",
              "    <tr>\n",
              "      <th>415</th>\n",
              "      <td>84</td>\n",
              "      <td>80.032425</td>\n",
              "    </tr>\n",
              "    <tr>\n",
              "      <th>61</th>\n",
              "      <td>39</td>\n",
              "      <td>44.249954</td>\n",
              "    </tr>\n",
              "    <tr>\n",
              "      <th>347</th>\n",
              "      <td>77</td>\n",
              "      <td>83.679810</td>\n",
              "    </tr>\n",
              "    <tr>\n",
              "      <th>349</th>\n",
              "      <td>87</td>\n",
              "      <td>86.097084</td>\n",
              "    </tr>\n",
              "  </tbody>\n",
              "</table>\n",
              "<p>300 rows × 2 columns</p>\n",
              "</div>"
            ],
            "text/plain": [
              "     Actual Y  Predicted Y\n",
              "507        55    59.788567\n",
              "818        60    59.938694\n",
              "452        65    63.830753\n",
              "368        44    51.936440\n",
              "242        56    46.548435\n",
              "..        ...          ...\n",
              "459        72    67.254494\n",
              "415        84    80.032425\n",
              "61         39    44.249954\n",
              "347        77    83.679810\n",
              "349        87    86.097084\n",
              "\n",
              "[300 rows x 2 columns]"
            ]
          },
          "metadata": {},
          "execution_count": 52
        }
      ]
    },
    {
      "cell_type": "code",
      "metadata": {
        "colab": {
          "base_uri": "https://localhost:8080/",
          "height": 279
        },
        "id": "e5mm9rNdHmdg",
        "outputId": "f7ce8edd-da27-4cf4-be69-10684f3d6f4e"
      },
      "source": [
        "sns.scatterplot(x=\"Actual Y\",y=\"Predicted Y\",data=df1)\n",
        "plt.show()"
      ],
      "execution_count": 53,
      "outputs": [
        {
          "output_type": "display_data",
          "data": {
            "image/png": "[encoded data removed]",
            "text/plain": [
              "<Figure size 432x288 with 1 Axes>"
            ]
          },
          "metadata": {
            "needs_background": "light"
          }
        }
      ]
    },
    {
      "cell_type": "code",
      "metadata": {
        "colab": {
          "base_uri": "https://localhost:8080/"
        },
        "id": "yTLsQZ2ZHrFQ",
        "outputId": "8e741d5b-a63a-4bfc-eb7f-0ae28bbdc3ad"
      },
      "source": [
        "from sklearn.metrics import mean_squared_error,r2_score\n",
        "print(f'MSE :{mean_squared_error(ytest,ypred)}')\n",
        "print(f'RMSE :{np.sqrt(mean_squared_error(ytest,ypred))}')\n",
        "print(r2_score(ytest,ypred))"
      ],
      "execution_count": 54,
      "outputs": [
        {
          "output_type": "stream",
          "name": "stdout",
          "text": [
            "MSE :35.94810505646162\n",
            "RMSE :5.995673861749121\n",
            "0.8543915249878509\n"
          ]
        }
      ]
    },
    {
      "cell_type": "code",
      "metadata": {
        "id": "UH4xaq_xKfib"
      },
      "source": [
        "ann=Sequential()\n",
        "\n",
        "ann.add(Dense(units=7,activation='relu'))\n",
        "ann.add(Dense(units=6,activation='relu'))\n",
        "ann.add(Dense(units=5,activation='relu'))\n",
        "ann.add(Dense(units=1))\n",
        "\n",
        "ann.compile(optimizer='rmsprop',loss='mse')"
      ],
      "execution_count": 55,
      "outputs": []
    },
    {
      "cell_type": "code",
      "metadata": {
        "id": "kOsesz9TKfmR"
      },
      "source": [
        "from tensorflow.keras.callbacks import EarlyStopping\n",
        "earlystop=EarlyStopping(monitor='val_loss',mode='min',verbose=1,patience=25)"
      ],
      "execution_count": 56,
      "outputs": []
    },
    {
      "cell_type": "code",
      "metadata": {
        "colab": {
          "base_uri": "https://localhost:8080/"
        },
        "id": "WPZxkiugKfqD",
        "outputId": "3528ae67-2225-4306-c3fd-c099e13690c9"
      },
      "source": [
        "ann.fit(xtrain,ytrain,epochs=300,validation_data=(xtest,ytest),callbacks=[earlystop])"
      ],
      "execution_count": 57,
      "outputs": [
        {
          "output_type": "stream",
          "name": "stdout",
          "text": [
            "Epoch 1/300\n",
            "22/22 [==============================] - 1s 7ms/step - loss: 4597.5610 - val_loss: 4575.7710\n",
            "Epoch 2/300\n",
            "22/22 [==============================] - 0s 2ms/step - loss: 4576.2588 - val_loss: 4555.1221\n",
            "Epoch 3/300\n",
            "22/22 [==============================] - 0s 2ms/step - loss: 4554.4780 - val_loss: 4532.3125\n",
            "Epoch 4/300\n",
            "22/22 [==============================] - 0s 3ms/step - loss: 4529.9243 - val_loss: 4506.6245\n",
            "Epoch 5/300\n",
            "22/22 [==============================] - 0s 3ms/step - loss: 4502.3608 - val_loss: 4477.1870\n",
            "Epoch 6/300\n",
            "22/22 [==============================] - 0s 3ms/step - loss: 4470.3120 - val_loss: 4443.2979\n",
            "Epoch 7/300\n",
            "22/22 [==============================] - 0s 3ms/step - loss: 4433.0366 - val_loss: 4403.3232\n",
            "Epoch 8/300\n",
            "22/22 [==============================] - 0s 4ms/step - loss: 4390.2891 - val_loss: 4357.6611\n",
            "Epoch 9/300\n",
            "22/22 [==============================] - 0s 3ms/step - loss: 4342.2485 - val_loss: 4306.3677\n",
            "Epoch 10/300\n",
            "22/22 [==============================] - 0s 3ms/step - loss: 4288.0151 - val_loss: 4248.7148\n",
            "Epoch 11/300\n",
            "22/22 [==============================] - 0s 3ms/step - loss: 4227.8164 - val_loss: 4185.7236\n",
            "Epoch 12/300\n",
            "22/22 [==============================] - 0s 3ms/step - loss: 4161.7554 - val_loss: 4116.3926\n",
            "Epoch 13/300\n",
            "22/22 [==============================] - 0s 4ms/step - loss: 4089.8115 - val_loss: 4041.7058\n",
            "Epoch 14/300\n",
            "22/22 [==============================] - 0s 3ms/step - loss: 4011.6008 - val_loss: 3960.1758\n",
            "Epoch 15/300\n",
            "22/22 [==============================] - 0s 3ms/step - loss: 3926.4336 - val_loss: 3870.7163\n",
            "Epoch 16/300\n",
            "22/22 [==============================] - 0s 3ms/step - loss: 3833.7629 - val_loss: 3774.6567\n",
            "Epoch 17/300\n",
            "22/22 [==============================] - 0s 3ms/step - loss: 3733.0879 - val_loss: 3669.9004\n",
            "Epoch 18/300\n",
            "22/22 [==============================] - 0s 3ms/step - loss: 3625.6785 - val_loss: 3558.9238\n",
            "Epoch 19/300\n",
            "22/22 [==============================] - 0s 3ms/step - loss: 3509.4568 - val_loss: 3437.6726\n",
            "Epoch 20/300\n",
            "22/22 [==============================] - 0s 3ms/step - loss: 3384.1196 - val_loss: 3306.9604\n",
            "Epoch 21/300\n",
            "22/22 [==============================] - 0s 3ms/step - loss: 3248.8748 - val_loss: 3165.8389\n",
            "Epoch 22/300\n",
            "22/22 [==============================] - 0s 2ms/step - loss: 3104.0769 - val_loss: 3014.5876\n",
            "Epoch 23/300\n",
            "22/22 [==============================] - 0s 3ms/step - loss: 2950.5051 - val_loss: 2856.7747\n",
            "Epoch 24/300\n",
            "22/22 [==============================] - 0s 3ms/step - loss: 2789.9133 - val_loss: 2690.7258\n",
            "Epoch 25/300\n",
            "22/22 [==============================] - 0s 3ms/step - loss: 2619.2437 - val_loss: 2513.3264\n",
            "Epoch 26/300\n",
            "22/22 [==============================] - 0s 3ms/step - loss: 2439.3647 - val_loss: 2328.2612\n",
            "Epoch 27/300\n",
            "22/22 [==============================] - 0s 3ms/step - loss: 2255.5547 - val_loss: 2139.6685\n",
            "Epoch 28/300\n",
            "22/22 [==============================] - 0s 3ms/step - loss: 2063.0518 - val_loss: 1941.0844\n",
            "Epoch 29/300\n",
            "22/22 [==============================] - 0s 4ms/step - loss: 1866.1702 - val_loss: 1738.9667\n",
            "Epoch 30/300\n",
            "22/22 [==============================] - 0s 3ms/step - loss: 1666.4872 - val_loss: 1535.5697\n",
            "Epoch 31/300\n",
            "22/22 [==============================] - 0s 3ms/step - loss: 1466.2397 - val_loss: 1331.7645\n",
            "Epoch 32/300\n",
            "22/22 [==============================] - 0s 3ms/step - loss: 1268.3912 - val_loss: 1134.1538\n",
            "Epoch 33/300\n",
            "22/22 [==============================] - 0s 3ms/step - loss: 1080.5697 - val_loss: 949.4205\n",
            "Epoch 34/300\n",
            "22/22 [==============================] - 0s 3ms/step - loss: 905.4068 - val_loss: 778.8047\n",
            "Epoch 35/300\n",
            "22/22 [==============================] - 0s 3ms/step - loss: 744.5014 - val_loss: 627.7415\n",
            "Epoch 36/300\n",
            "22/22 [==============================] - 0s 3ms/step - loss: 608.0046 - val_loss: 504.2285\n",
            "Epoch 37/300\n",
            "22/22 [==============================] - 0s 3ms/step - loss: 496.2761 - val_loss: 410.9666\n",
            "Epoch 38/300\n",
            "22/22 [==============================] - 0s 3ms/step - loss: 414.7983 - val_loss: 347.2671\n",
            "Epoch 39/300\n",
            "22/22 [==============================] - 0s 3ms/step - loss: 357.4201 - val_loss: 306.2217\n",
            "Epoch 40/300\n",
            "22/22 [==============================] - 0s 3ms/step - loss: 317.6698 - val_loss: 278.9606\n",
            "Epoch 41/300\n",
            "22/22 [==============================] - 0s 3ms/step - loss: 287.6147 - val_loss: 256.3056\n",
            "Epoch 42/300\n",
            "22/22 [==============================] - 0s 2ms/step - loss: 261.8272 - val_loss: 235.8358\n",
            "Epoch 43/300\n",
            "22/22 [==============================] - 0s 3ms/step - loss: 239.1142 - val_loss: 217.7814\n",
            "Epoch 44/300\n",
            "22/22 [==============================] - 0s 2ms/step - loss: 219.2488 - val_loss: 201.6553\n",
            "Epoch 45/300\n",
            "22/22 [==============================] - 0s 3ms/step - loss: 201.0746 - val_loss: 187.3022\n",
            "Epoch 46/300\n",
            "22/22 [==============================] - 0s 3ms/step - loss: 184.8223 - val_loss: 174.2222\n",
            "Epoch 47/300\n",
            "22/22 [==============================] - 0s 3ms/step - loss: 170.6407 - val_loss: 163.0161\n",
            "Epoch 48/300\n",
            "22/22 [==============================] - 0s 3ms/step - loss: 158.5404 - val_loss: 153.3004\n",
            "Epoch 49/300\n",
            "22/22 [==============================] - 0s 3ms/step - loss: 148.2328 - val_loss: 144.4795\n",
            "Epoch 50/300\n",
            "22/22 [==============================] - 0s 2ms/step - loss: 138.9724 - val_loss: 136.2348\n",
            "Epoch 51/300\n",
            "22/22 [==============================] - 0s 3ms/step - loss: 130.8364 - val_loss: 129.2607\n",
            "Epoch 52/300\n",
            "22/22 [==============================] - 0s 3ms/step - loss: 123.2431 - val_loss: 122.5563\n",
            "Epoch 53/300\n",
            "22/22 [==============================] - 0s 3ms/step - loss: 116.4402 - val_loss: 117.0825\n",
            "Epoch 54/300\n",
            "22/22 [==============================] - 0s 3ms/step - loss: 110.6949 - val_loss: 111.4192\n",
            "Epoch 55/300\n",
            "22/22 [==============================] - 0s 3ms/step - loss: 105.1685 - val_loss: 106.3440\n",
            "Epoch 56/300\n",
            "22/22 [==============================] - 0s 4ms/step - loss: 100.0759 - val_loss: 101.6150\n",
            "Epoch 57/300\n",
            "22/22 [==============================] - 0s 3ms/step - loss: 95.4062 - val_loss: 97.3373\n",
            "Epoch 58/300\n",
            "22/22 [==============================] - 0s 3ms/step - loss: 90.9440 - val_loss: 93.8837\n",
            "Epoch 59/300\n",
            "22/22 [==============================] - 0s 3ms/step - loss: 87.0323 - val_loss: 89.6167\n",
            "Epoch 60/300\n",
            "22/22 [==============================] - 0s 3ms/step - loss: 83.3558 - val_loss: 86.4254\n",
            "Epoch 61/300\n",
            "22/22 [==============================] - 0s 3ms/step - loss: 79.9003 - val_loss: 83.1253\n",
            "Epoch 62/300\n",
            "22/22 [==============================] - 0s 2ms/step - loss: 77.2840 - val_loss: 80.5989\n",
            "Epoch 63/300\n",
            "22/22 [==============================] - 0s 3ms/step - loss: 74.4373 - val_loss: 77.6240\n",
            "Epoch 64/300\n",
            "22/22 [==============================] - 0s 3ms/step - loss: 71.9872 - val_loss: 75.1241\n",
            "Epoch 65/300\n",
            "22/22 [==============================] - 0s 3ms/step - loss: 69.5054 - val_loss: 72.8795\n",
            "Epoch 66/300\n",
            "22/22 [==============================] - 0s 2ms/step - loss: 67.2220 - val_loss: 70.4614\n",
            "Epoch 67/300\n",
            "22/22 [==============================] - 0s 3ms/step - loss: 64.9903 - val_loss: 69.2242\n",
            "Epoch 68/300\n",
            "22/22 [==============================] - 0s 3ms/step - loss: 63.2523 - val_loss: 66.6943\n",
            "Epoch 69/300\n",
            "22/22 [==============================] - 0s 2ms/step - loss: 61.3440 - val_loss: 64.8968\n",
            "Epoch 70/300\n",
            "22/22 [==============================] - 0s 3ms/step - loss: 59.6844 - val_loss: 63.5405\n",
            "Epoch 71/300\n",
            "22/22 [==============================] - 0s 3ms/step - loss: 58.0788 - val_loss: 61.6277\n",
            "Epoch 72/300\n",
            "22/22 [==============================] - 0s 3ms/step - loss: 56.4087 - val_loss: 60.7626\n",
            "Epoch 73/300\n",
            "22/22 [==============================] - 0s 3ms/step - loss: 55.1654 - val_loss: 59.1378\n",
            "Epoch 74/300\n",
            "22/22 [==============================] - 0s 4ms/step - loss: 53.8821 - val_loss: 57.5990\n",
            "Epoch 75/300\n",
            "22/22 [==============================] - 0s 4ms/step - loss: 52.6895 - val_loss: 56.6422\n",
            "Epoch 76/300\n",
            "22/22 [==============================] - 0s 2ms/step - loss: 51.4638 - val_loss: 55.2516\n",
            "Epoch 77/300\n",
            "22/22 [==============================] - 0s 3ms/step - loss: 50.3954 - val_loss: 54.4006\n",
            "Epoch 78/300\n",
            "22/22 [==============================] - 0s 3ms/step - loss: 49.5040 - val_loss: 53.7006\n",
            "Epoch 79/300\n",
            "22/22 [==============================] - 0s 3ms/step - loss: 48.4425 - val_loss: 52.4630\n",
            "Epoch 80/300\n",
            "22/22 [==============================] - 0s 3ms/step - loss: 47.6301 - val_loss: 51.7317\n",
            "Epoch 81/300\n",
            "22/22 [==============================] - 0s 4ms/step - loss: 46.7086 - val_loss: 51.2467\n",
            "Epoch 82/300\n",
            "22/22 [==============================] - 0s 4ms/step - loss: 46.2513 - val_loss: 50.0427\n",
            "Epoch 83/300\n",
            "22/22 [==============================] - 0s 3ms/step - loss: 45.4087 - val_loss: 49.6713\n",
            "Epoch 84/300\n",
            "22/22 [==============================] - 0s 3ms/step - loss: 44.7570 - val_loss: 49.0776\n",
            "Epoch 85/300\n",
            "22/22 [==============================] - 0s 3ms/step - loss: 43.9856 - val_loss: 48.3423\n",
            "Epoch 86/300\n",
            "22/22 [==============================] - 0s 2ms/step - loss: 43.4472 - val_loss: 47.7489\n",
            "Epoch 87/300\n",
            "22/22 [==============================] - 0s 3ms/step - loss: 42.9799 - val_loss: 47.0691\n",
            "Epoch 88/300\n",
            "22/22 [==============================] - 0s 3ms/step - loss: 42.3501 - val_loss: 46.9281\n",
            "Epoch 89/300\n",
            "22/22 [==============================] - 0s 3ms/step - loss: 41.7566 - val_loss: 46.9712\n",
            "Epoch 90/300\n",
            "22/22 [==============================] - 0s 3ms/step - loss: 41.4426 - val_loss: 45.6061\n",
            "Epoch 91/300\n",
            "22/22 [==============================] - 0s 3ms/step - loss: 40.9497 - val_loss: 45.1927\n",
            "Epoch 92/300\n",
            "22/22 [==============================] - 0s 3ms/step - loss: 40.5115 - val_loss: 44.8809\n",
            "Epoch 93/300\n",
            "22/22 [==============================] - 0s 3ms/step - loss: 40.0893 - val_loss: 44.4643\n",
            "Epoch 94/300\n",
            "22/22 [==============================] - 0s 3ms/step - loss: 39.6638 - val_loss: 44.4603\n",
            "Epoch 95/300\n",
            "22/22 [==============================] - 0s 3ms/step - loss: 39.3693 - val_loss: 44.0958\n",
            "Epoch 96/300\n",
            "22/22 [==============================] - 0s 3ms/step - loss: 38.9546 - val_loss: 43.6325\n",
            "Epoch 97/300\n",
            "22/22 [==============================] - 0s 4ms/step - loss: 38.7863 - val_loss: 43.2025\n",
            "Epoch 98/300\n",
            "22/22 [==============================] - 0s 3ms/step - loss: 38.2579 - val_loss: 42.9980\n",
            "Epoch 99/300\n",
            "22/22 [==============================] - 0s 3ms/step - loss: 37.9096 - val_loss: 42.4613\n",
            "Epoch 100/300\n",
            "22/22 [==============================] - 0s 3ms/step - loss: 37.8392 - val_loss: 42.3150\n",
            "Epoch 101/300\n",
            "22/22 [==============================] - 0s 2ms/step - loss: 37.4902 - val_loss: 41.8976\n",
            "Epoch 102/300\n",
            "22/22 [==============================] - 0s 2ms/step - loss: 37.2343 - val_loss: 41.7098\n",
            "Epoch 103/300\n",
            "22/22 [==============================] - 0s 3ms/step - loss: 37.0074 - val_loss: 41.5322\n",
            "Epoch 104/300\n",
            "22/22 [==============================] - 0s 3ms/step - loss: 36.6227 - val_loss: 42.2221\n",
            "Epoch 105/300\n",
            "22/22 [==============================] - 0s 3ms/step - loss: 36.6236 - val_loss: 41.3015\n",
            "Epoch 106/300\n",
            "22/22 [==============================] - 0s 3ms/step - loss: 36.3670 - val_loss: 40.8208\n",
            "Epoch 107/300\n",
            "22/22 [==============================] - 0s 3ms/step - loss: 36.0953 - val_loss: 40.4822\n",
            "Epoch 108/300\n",
            "22/22 [==============================] - 0s 3ms/step - loss: 36.0339 - val_loss: 40.2783\n",
            "Epoch 109/300\n",
            "22/22 [==============================] - 0s 3ms/step - loss: 35.7703 - val_loss: 40.4660\n",
            "Epoch 110/300\n",
            "22/22 [==============================] - 0s 3ms/step - loss: 35.6912 - val_loss: 39.9168\n",
            "Epoch 111/300\n",
            "22/22 [==============================] - 0s 3ms/step - loss: 35.4648 - val_loss: 40.0558\n",
            "Epoch 112/300\n",
            "22/22 [==============================] - 0s 4ms/step - loss: 35.3321 - val_loss: 39.7003\n",
            "Epoch 113/300\n",
            "22/22 [==============================] - 0s 3ms/step - loss: 35.0515 - val_loss: 39.4671\n",
            "Epoch 114/300\n",
            "22/22 [==============================] - 0s 4ms/step - loss: 35.1607 - val_loss: 39.3204\n",
            "Epoch 115/300\n",
            "22/22 [==============================] - 0s 3ms/step - loss: 34.7612 - val_loss: 39.8516\n",
            "Epoch 116/300\n",
            "22/22 [==============================] - 0s 3ms/step - loss: 34.6381 - val_loss: 40.0824\n",
            "Epoch 117/300\n",
            "22/22 [==============================] - 0s 3ms/step - loss: 34.6899 - val_loss: 38.9730\n",
            "Epoch 118/300\n",
            "22/22 [==============================] - 0s 3ms/step - loss: 34.5111 - val_loss: 39.0176\n",
            "Epoch 119/300\n",
            "22/22 [==============================] - 0s 3ms/step - loss: 34.2796 - val_loss: 38.6639\n",
            "Epoch 120/300\n",
            "22/22 [==============================] - 0s 3ms/step - loss: 34.2468 - val_loss: 38.4860\n",
            "Epoch 121/300\n",
            "22/22 [==============================] - 0s 4ms/step - loss: 34.0694 - val_loss: 38.9774\n",
            "Epoch 122/300\n",
            "22/22 [==============================] - 0s 3ms/step - loss: 34.0264 - val_loss: 38.3762\n",
            "Epoch 123/300\n",
            "22/22 [==============================] - 0s 3ms/step - loss: 33.9019 - val_loss: 38.0760\n",
            "Epoch 124/300\n",
            "22/22 [==============================] - 0s 3ms/step - loss: 33.8968 - val_loss: 38.1007\n",
            "Epoch 125/300\n",
            "22/22 [==============================] - 0s 3ms/step - loss: 33.8519 - val_loss: 38.0285\n",
            "Epoch 126/300\n",
            "22/22 [==============================] - 0s 3ms/step - loss: 33.5157 - val_loss: 37.8440\n",
            "Epoch 127/300\n",
            "22/22 [==============================] - 0s 3ms/step - loss: 33.5153 - val_loss: 38.3293\n",
            "Epoch 128/300\n",
            "22/22 [==============================] - 0s 3ms/step - loss: 33.5121 - val_loss: 37.7366\n",
            "Epoch 129/300\n",
            "22/22 [==============================] - 0s 2ms/step - loss: 33.4052 - val_loss: 37.4777\n",
            "Epoch 130/300\n",
            "22/22 [==============================] - 0s 3ms/step - loss: 33.3055 - val_loss: 38.1644\n",
            "Epoch 131/300\n",
            "22/22 [==============================] - 0s 3ms/step - loss: 33.0909 - val_loss: 37.7404\n",
            "Epoch 132/300\n",
            "22/22 [==============================] - 0s 2ms/step - loss: 33.2121 - val_loss: 37.4475\n",
            "Epoch 133/300\n",
            "22/22 [==============================] - 0s 3ms/step - loss: 33.1062 - val_loss: 37.3733\n",
            "Epoch 134/300\n",
            "22/22 [==============================] - 0s 3ms/step - loss: 33.0601 - val_loss: 37.4337\n",
            "Epoch 135/300\n",
            "22/22 [==============================] - 0s 3ms/step - loss: 32.8121 - val_loss: 38.6868\n",
            "Epoch 136/300\n",
            "22/22 [==============================] - 0s 3ms/step - loss: 32.9494 - val_loss: 37.5571\n",
            "Epoch 137/300\n",
            "22/22 [==============================] - 0s 3ms/step - loss: 32.7131 - val_loss: 36.9299\n",
            "Epoch 138/300\n",
            "22/22 [==============================] - 0s 3ms/step - loss: 32.8078 - val_loss: 36.9471\n",
            "Epoch 139/300\n",
            "22/22 [==============================] - 0s 3ms/step - loss: 32.6464 - val_loss: 36.7291\n",
            "Epoch 140/300\n",
            "22/22 [==============================] - 0s 3ms/step - loss: 32.5373 - val_loss: 37.7119\n",
            "Epoch 141/300\n",
            "22/22 [==============================] - 0s 3ms/step - loss: 32.4961 - val_loss: 36.8171\n",
            "Epoch 142/300\n",
            "22/22 [==============================] - 0s 3ms/step - loss: 32.5747 - val_loss: 36.7804\n",
            "Epoch 143/300\n",
            "22/22 [==============================] - 0s 3ms/step - loss: 32.4296 - val_loss: 37.2570\n",
            "Epoch 144/300\n",
            "22/22 [==============================] - 0s 2ms/step - loss: 32.3666 - val_loss: 36.9400\n",
            "Epoch 145/300\n",
            "22/22 [==============================] - 0s 3ms/step - loss: 32.2346 - val_loss: 36.6923\n",
            "Epoch 146/300\n",
            "22/22 [==============================] - 0s 3ms/step - loss: 32.4038 - val_loss: 36.6780\n",
            "Epoch 147/300\n",
            "22/22 [==============================] - 0s 3ms/step - loss: 32.0738 - val_loss: 36.9057\n",
            "Epoch 148/300\n",
            "22/22 [==============================] - 0s 3ms/step - loss: 32.0501 - val_loss: 37.2079\n",
            "Epoch 149/300\n",
            "22/22 [==============================] - 0s 3ms/step - loss: 31.9888 - val_loss: 37.2982\n",
            "Epoch 150/300\n",
            "22/22 [==============================] - 0s 3ms/step - loss: 32.0595 - val_loss: 36.7207\n",
            "Epoch 151/300\n",
            "22/22 [==============================] - 0s 2ms/step - loss: 31.8600 - val_loss: 36.4951\n",
            "Epoch 152/300\n",
            "22/22 [==============================] - 0s 2ms/step - loss: 32.0335 - val_loss: 36.8119\n",
            "Epoch 153/300\n",
            "22/22 [==============================] - 0s 3ms/step - loss: 31.7913 - val_loss: 36.3980\n",
            "Epoch 154/300\n",
            "22/22 [==============================] - 0s 3ms/step - loss: 31.8498 - val_loss: 36.8498\n",
            "Epoch 155/300\n",
            "22/22 [==============================] - 0s 3ms/step - loss: 31.6766 - val_loss: 36.4481\n",
            "Epoch 156/300\n",
            "22/22 [==============================] - 0s 3ms/step - loss: 31.7221 - val_loss: 36.3394\n",
            "Epoch 157/300\n",
            "22/22 [==============================] - 0s 3ms/step - loss: 31.6867 - val_loss: 36.6645\n",
            "Epoch 158/300\n",
            "22/22 [==============================] - 0s 3ms/step - loss: 31.6431 - val_loss: 36.4959\n",
            "Epoch 159/300\n",
            "22/22 [==============================] - 0s 3ms/step - loss: 31.5880 - val_loss: 36.3525\n",
            "Epoch 160/300\n",
            "22/22 [==============================] - 0s 3ms/step - loss: 31.6519 - val_loss: 36.2481\n",
            "Epoch 161/300\n",
            "22/22 [==============================] - 0s 3ms/step - loss: 31.4446 - val_loss: 36.7380\n",
            "Epoch 162/300\n",
            "22/22 [==============================] - 0s 4ms/step - loss: 31.5507 - val_loss: 36.4347\n",
            "Epoch 163/300\n",
            "22/22 [==============================] - 0s 4ms/step - loss: 31.4881 - val_loss: 36.3975\n",
            "Epoch 164/300\n",
            "22/22 [==============================] - 0s 3ms/step - loss: 31.3674 - val_loss: 36.1305\n",
            "Epoch 165/300\n",
            "22/22 [==============================] - 0s 3ms/step - loss: 31.3431 - val_loss: 36.1741\n",
            "Epoch 166/300\n",
            "22/22 [==============================] - 0s 4ms/step - loss: 31.3641 - val_loss: 36.4820\n",
            "Epoch 167/300\n",
            "22/22 [==============================] - 0s 4ms/step - loss: 31.3415 - val_loss: 36.8276\n",
            "Epoch 168/300\n",
            "22/22 [==============================] - 0s 3ms/step - loss: 31.3259 - val_loss: 36.6855\n",
            "Epoch 169/300\n",
            "22/22 [==============================] - 0s 3ms/step - loss: 31.2261 - val_loss: 35.9226\n",
            "Epoch 170/300\n",
            "22/22 [==============================] - 0s 3ms/step - loss: 31.2333 - val_loss: 35.9758\n",
            "Epoch 171/300\n",
            "22/22 [==============================] - 0s 2ms/step - loss: 31.2706 - val_loss: 36.0853\n",
            "Epoch 172/300\n",
            "22/22 [==============================] - 0s 3ms/step - loss: 31.2429 - val_loss: 35.9023\n",
            "Epoch 173/300\n",
            "22/22 [==============================] - 0s 3ms/step - loss: 31.1801 - val_loss: 36.4142\n",
            "Epoch 174/300\n",
            "22/22 [==============================] - 0s 3ms/step - loss: 31.1327 - val_loss: 35.9720\n",
            "Epoch 175/300\n",
            "22/22 [==============================] - 0s 3ms/step - loss: 31.0464 - val_loss: 36.2520\n",
            "Epoch 176/300\n",
            "22/22 [==============================] - 0s 3ms/step - loss: 31.1022 - val_loss: 36.0531\n",
            "Epoch 177/300\n",
            "22/22 [==============================] - 0s 3ms/step - loss: 30.9917 - val_loss: 36.2678\n",
            "Epoch 178/300\n",
            "22/22 [==============================] - 0s 3ms/step - loss: 30.9216 - val_loss: 36.6154\n",
            "Epoch 179/300\n",
            "22/22 [==============================] - 0s 4ms/step - loss: 30.9097 - val_loss: 36.7204\n",
            "Epoch 180/300\n",
            "22/22 [==============================] - 0s 3ms/step - loss: 31.0037 - val_loss: 36.8043\n",
            "Epoch 181/300\n",
            "22/22 [==============================] - 0s 3ms/step - loss: 30.8787 - val_loss: 35.6950\n",
            "Epoch 182/300\n",
            "22/22 [==============================] - 0s 4ms/step - loss: 30.9191 - val_loss: 36.2002\n",
            "Epoch 183/300\n",
            "22/22 [==============================] - 0s 4ms/step - loss: 30.8526 - val_loss: 35.9191\n",
            "Epoch 184/300\n",
            "22/22 [==============================] - 0s 3ms/step - loss: 30.9110 - val_loss: 35.7506\n",
            "Epoch 185/300\n",
            "22/22 [==============================] - 0s 3ms/step - loss: 30.8235 - val_loss: 35.8090\n",
            "Epoch 186/300\n",
            "22/22 [==============================] - 0s 3ms/step - loss: 30.7557 - val_loss: 36.6334\n",
            "Epoch 187/300\n",
            "22/22 [==============================] - 0s 3ms/step - loss: 30.7315 - val_loss: 35.9039\n",
            "Epoch 188/300\n",
            "22/22 [==============================] - 0s 3ms/step - loss: 30.8122 - val_loss: 36.3667\n",
            "Epoch 189/300\n",
            "22/22 [==============================] - 0s 3ms/step - loss: 30.7492 - val_loss: 35.9080\n",
            "Epoch 190/300\n",
            "22/22 [==============================] - 0s 3ms/step - loss: 30.6434 - val_loss: 35.9980\n",
            "Epoch 191/300\n",
            "22/22 [==============================] - 0s 3ms/step - loss: 30.6462 - val_loss: 36.7840\n",
            "Epoch 192/300\n",
            "22/22 [==============================] - 0s 3ms/step - loss: 30.7445 - val_loss: 35.8539\n",
            "Epoch 193/300\n",
            "22/22 [==============================] - 0s 3ms/step - loss: 30.6866 - val_loss: 35.7409\n",
            "Epoch 194/300\n",
            "22/22 [==============================] - 0s 3ms/step - loss: 30.6154 - val_loss: 35.7823\n",
            "Epoch 195/300\n",
            "22/22 [==============================] - 0s 3ms/step - loss: 30.7700 - val_loss: 36.0061\n",
            "Epoch 196/300\n",
            "22/22 [==============================] - 0s 3ms/step - loss: 30.5723 - val_loss: 35.8108\n",
            "Epoch 197/300\n",
            "22/22 [==============================] - 0s 3ms/step - loss: 30.5752 - val_loss: 36.6045\n",
            "Epoch 198/300\n",
            "22/22 [==============================] - 0s 3ms/step - loss: 30.6531 - val_loss: 36.0503\n",
            "Epoch 199/300\n",
            "22/22 [==============================] - 0s 3ms/step - loss: 30.5984 - val_loss: 35.9000\n",
            "Epoch 200/300\n",
            "22/22 [==============================] - 0s 3ms/step - loss: 30.5277 - val_loss: 36.3036\n",
            "Epoch 201/300\n",
            "22/22 [==============================] - 0s 3ms/step - loss: 30.4656 - val_loss: 36.4786\n",
            "Epoch 202/300\n",
            "22/22 [==============================] - 0s 3ms/step - loss: 30.3556 - val_loss: 36.4353\n",
            "Epoch 203/300\n",
            "22/22 [==============================] - 0s 3ms/step - loss: 30.5611 - val_loss: 35.9622\n",
            "Epoch 204/300\n",
            "22/22 [==============================] - 0s 4ms/step - loss: 30.3715 - val_loss: 35.8619\n",
            "Epoch 205/300\n",
            "22/22 [==============================] - 0s 3ms/step - loss: 30.3478 - val_loss: 35.7540\n",
            "Epoch 206/300\n",
            "22/22 [==============================] - 0s 3ms/step - loss: 30.5122 - val_loss: 36.0703\n",
            "Epoch 00206: early stopping\n"
          ]
        },
        {
          "output_type": "execute_result",
          "data": {
            "text/plain": [
              "<keras.callbacks.History at 0x7fe3bab80ad0>"
            ]
          },
          "metadata": {},
          "execution_count": 57
        }
      ]
    },
    {
      "cell_type": "code",
      "metadata": {
        "colab": {
          "base_uri": "https://localhost:8080/",
          "height": 282
        },
        "id": "teBW_5E7Kft5",
        "outputId": "18890fed-c0c2-47a4-83bb-6fafa3391f9f"
      },
      "source": [
        "lossdf2=pd.DataFrame(ann.history.history)\n",
        "lossdf2.plot()"
      ],
      "execution_count": 58,
      "outputs": [
        {
          "output_type": "execute_result",
          "data": {
            "text/plain": [
              "<matplotlib.axes._subplots.AxesSubplot at 0x7fe3d0e75510>"
            ]
          },
          "metadata": {},
          "execution_count": 58
        },
        {
          "output_type": "display_data",
          "data": {
            "image/png": "[encoded data removed]",
            "text/plain": [
              "<Figure size 432x288 with 1 Axes>"
            ]
          },
          "metadata": {
            "needs_background": "light"
          }
        }
      ]
    },
    {
      "cell_type": "code",
      "metadata": {
        "colab": {
          "base_uri": "https://localhost:8080/"
        },
        "id": "9jHb1irdNVOn",
        "outputId": "a1b2576d-31df-461f-8699-603795bf5f78"
      },
      "source": [
        "from sklearn.metrics import mean_squared_error,r2_score\n",
        "print(f'MSE :{mean_squared_error(ytest,ypred)}')\n",
        "print(f'RMSE :{np.sqrt(mean_squared_error(ytest,ypred))}')\n",
        "print(r2_score(ytest,ypred))"
      ],
      "execution_count": 59,
      "outputs": [
        {
          "output_type": "stream",
          "name": "stdout",
          "text": [
            "MSE :35.94810505646162\n",
            "RMSE :5.995673861749121\n",
            "0.8543915249878509\n"
          ]
        }
      ]
    },
    {
      "cell_type": "code",
      "metadata": {
        "id": "HEx3yWoDMMbh"
      },
      "source": [
        "#DropOut\n",
        "from tensorflow.keras.layers import Dropout"
      ],
      "execution_count": 60,
      "outputs": []
    },
    {
      "cell_type": "code",
      "metadata": {
        "id": "2Zarn8HMMQ-o"
      },
      "source": [
        "ann=Sequential()\n",
        "\n",
        "ann.add(Dense(units=7,activation='relu'))\n",
        "ann.add(Dropout(rate=0.5))\n",
        "ann.add(Dense(units=5,activation='relu'))\n",
        "ann.add(Dropout(rate=0.5))\n",
        "\n",
        "\n",
        "ann.add(Dense(units=1))\n",
        "\n",
        "ann.compile(optimizer='adam',loss='mse')"
      ],
      "execution_count": 61,
      "outputs": []
    },
    {
      "cell_type": "code",
      "metadata": {
        "colab": {
          "base_uri": "https://localhost:8080/"
        },
        "id": "F_G4OhsNMRlP",
        "outputId": "5d48dd09-cab0-453a-bcc4-12e1bb39e4b3"
      },
      "source": [
        "ann.fit(xtrain,ytrain,epochs=300,validation_data=(xtest,ytest),callbacks=[earlystop])"
      ],
      "execution_count": 62,
      "outputs": [
        {
          "output_type": "stream",
          "name": "stdout",
          "text": [
            "Epoch 1/300\n",
            "22/22 [==============================] - 1s 16ms/step - loss: 4604.1021 - val_loss: 4577.2896\n",
            "Epoch 2/300\n",
            "22/22 [==============================] - 0s 3ms/step - loss: 4581.1885 - val_loss: 4559.5649\n",
            "Epoch 3/300\n",
            "22/22 [==============================] - 0s 4ms/step - loss: 4565.6836 - val_loss: 4538.8086\n",
            "Epoch 4/300\n",
            "22/22 [==============================] - 0s 3ms/step - loss: 4536.6313 - val_loss: 4514.1812\n",
            "Epoch 5/300\n",
            "22/22 [==============================] - 0s 3ms/step - loss: 4520.7656 - val_loss: 4485.8867\n",
            "Epoch 6/300\n",
            "22/22 [==============================] - 0s 3ms/step - loss: 4480.5566 - val_loss: 4451.6152\n",
            "Epoch 7/300\n",
            "22/22 [==============================] - 0s 3ms/step - loss: 4442.3018 - val_loss: 4408.0205\n",
            "Epoch 8/300\n",
            "22/22 [==============================] - 0s 3ms/step - loss: 4405.5283 - val_loss: 4358.2642\n",
            "Epoch 9/300\n",
            "22/22 [==============================] - 0s 3ms/step - loss: 4357.7168 - val_loss: 4298.3955\n",
            "Epoch 10/300\n",
            "22/22 [==============================] - 0s 3ms/step - loss: 4299.2905 - val_loss: 4229.5435\n",
            "Epoch 11/300\n",
            "22/22 [==============================] - 0s 3ms/step - loss: 4222.3198 - val_loss: 4151.5215\n",
            "Epoch 12/300\n",
            "22/22 [==============================] - 0s 3ms/step - loss: 4140.0044 - val_loss: 4059.8245\n",
            "Epoch 13/300\n",
            "22/22 [==============================] - 0s 3ms/step - loss: 4054.8667 - val_loss: 3954.0632\n",
            "Epoch 14/300\n",
            "22/22 [==============================] - 0s 3ms/step - loss: 3978.3811 - val_loss: 3837.3716\n",
            "Epoch 15/300\n",
            "22/22 [==============================] - 0s 3ms/step - loss: 3858.5640 - val_loss: 3710.4695\n",
            "Epoch 16/300\n",
            "22/22 [==============================] - 0s 3ms/step - loss: 3702.2429 - val_loss: 3565.5100\n",
            "Epoch 17/300\n",
            "22/22 [==============================] - 0s 3ms/step - loss: 3631.0623 - val_loss: 3412.2861\n",
            "Epoch 18/300\n",
            "22/22 [==============================] - 0s 3ms/step - loss: 3458.8596 - val_loss: 3247.2961\n",
            "Epoch 19/300\n",
            "22/22 [==============================] - 0s 3ms/step - loss: 3373.9004 - val_loss: 3076.4954\n",
            "Epoch 20/300\n",
            "22/22 [==============================] - 0s 2ms/step - loss: 3215.3367 - val_loss: 2902.1316\n",
            "Epoch 21/300\n",
            "22/22 [==============================] - 0s 3ms/step - loss: 3053.8667 - val_loss: 2719.6514\n",
            "Epoch 22/300\n",
            "22/22 [==============================] - 0s 3ms/step - loss: 2966.4646 - val_loss: 2537.5762\n",
            "Epoch 23/300\n",
            "22/22 [==============================] - 0s 3ms/step - loss: 2796.6646 - val_loss: 2351.9629\n",
            "Epoch 24/300\n",
            "22/22 [==============================] - 0s 3ms/step - loss: 2790.0115 - val_loss: 2174.1653\n",
            "Epoch 25/300\n",
            "22/22 [==============================] - 0s 3ms/step - loss: 2492.1692 - val_loss: 2000.1971\n",
            "Epoch 26/300\n",
            "22/22 [==============================] - 0s 3ms/step - loss: 2451.5400 - val_loss: 1852.7556\n",
            "Epoch 27/300\n",
            "22/22 [==============================] - 0s 3ms/step - loss: 2401.1904 - val_loss: 1704.9686\n",
            "Epoch 28/300\n",
            "22/22 [==============================] - 0s 3ms/step - loss: 2297.2957 - val_loss: 1583.6752\n",
            "Epoch 29/300\n",
            "22/22 [==============================] - 0s 3ms/step - loss: 2256.8364 - val_loss: 1477.3481\n",
            "Epoch 30/300\n",
            "22/22 [==============================] - 0s 4ms/step - loss: 2253.7317 - val_loss: 1383.2427\n",
            "Epoch 31/300\n",
            "22/22 [==============================] - 0s 4ms/step - loss: 2120.0837 - val_loss: 1297.1293\n",
            "Epoch 32/300\n",
            "22/22 [==============================] - 0s 3ms/step - loss: 2078.3381 - val_loss: 1204.6129\n",
            "Epoch 33/300\n",
            "22/22 [==============================] - 0s 3ms/step - loss: 1926.7928 - val_loss: 1115.6056\n",
            "Epoch 34/300\n",
            "22/22 [==============================] - 0s 3ms/step - loss: 2053.8569 - val_loss: 1049.7186\n",
            "Epoch 35/300\n",
            "22/22 [==============================] - 0s 3ms/step - loss: 1879.8805 - val_loss: 1009.8646\n",
            "Epoch 36/300\n",
            "22/22 [==============================] - 0s 3ms/step - loss: 2047.2472 - val_loss: 982.8275\n",
            "Epoch 37/300\n",
            "22/22 [==============================] - 0s 4ms/step - loss: 2045.4675 - val_loss: 943.6398\n",
            "Epoch 38/300\n",
            "22/22 [==============================] - 0s 3ms/step - loss: 2064.3760 - val_loss: 939.5182\n",
            "Epoch 39/300\n",
            "22/22 [==============================] - 0s 3ms/step - loss: 1904.9523 - val_loss: 900.7156\n",
            "Epoch 40/300\n",
            "22/22 [==============================] - 0s 3ms/step - loss: 2087.3926 - val_loss: 897.6697\n",
            "Epoch 41/300\n",
            "22/22 [==============================] - 0s 3ms/step - loss: 1863.7775 - val_loss: 896.0002\n",
            "Epoch 42/300\n",
            "22/22 [==============================] - 0s 3ms/step - loss: 1929.2061 - val_loss: 893.2620\n",
            "Epoch 43/300\n",
            "22/22 [==============================] - 0s 2ms/step - loss: 1955.7019 - val_loss: 892.9890\n",
            "Epoch 44/300\n",
            "22/22 [==============================] - 0s 3ms/step - loss: 1958.6285 - val_loss: 866.0576\n",
            "Epoch 45/300\n",
            "22/22 [==============================] - 0s 4ms/step - loss: 1929.8988 - val_loss: 863.1795\n",
            "Epoch 46/300\n",
            "22/22 [==============================] - 0s 4ms/step - loss: 1892.8368 - val_loss: 879.8025\n",
            "Epoch 47/300\n",
            "22/22 [==============================] - 0s 3ms/step - loss: 1813.3020 - val_loss: 859.3564\n",
            "Epoch 48/300\n",
            "22/22 [==============================] - 0s 3ms/step - loss: 1817.1377 - val_loss: 827.8796\n",
            "Epoch 49/300\n",
            "22/22 [==============================] - 0s 3ms/step - loss: 1833.3029 - val_loss: 811.5233\n",
            "Epoch 50/300\n",
            "22/22 [==============================] - 0s 2ms/step - loss: 1854.0414 - val_loss: 798.3170\n",
            "Epoch 51/300\n",
            "22/22 [==============================] - 0s 3ms/step - loss: 1922.3101 - val_loss: 785.6500\n",
            "Epoch 52/300\n",
            "22/22 [==============================] - 0s 3ms/step - loss: 1822.4900 - val_loss: 777.0195\n",
            "Epoch 53/300\n",
            "22/22 [==============================] - 0s 3ms/step - loss: 1836.0532 - val_loss: 772.8501\n",
            "Epoch 54/300\n",
            "22/22 [==============================] - 0s 3ms/step - loss: 1942.4869 - val_loss: 789.8233\n",
            "Epoch 55/300\n",
            "22/22 [==============================] - 0s 4ms/step - loss: 1847.4618 - val_loss: 794.4566\n",
            "Epoch 56/300\n",
            "22/22 [==============================] - 0s 2ms/step - loss: 1827.4175 - val_loss: 778.9174\n",
            "Epoch 57/300\n",
            "22/22 [==============================] - 0s 3ms/step - loss: 1832.4232 - val_loss: 764.8826\n",
            "Epoch 58/300\n",
            "22/22 [==============================] - 0s 3ms/step - loss: 1706.7096 - val_loss: 735.4998\n",
            "Epoch 59/300\n",
            "22/22 [==============================] - 0s 3ms/step - loss: 1757.0793 - val_loss: 740.6199\n",
            "Epoch 60/300\n",
            "22/22 [==============================] - 0s 3ms/step - loss: 1731.2107 - val_loss: 760.2261\n",
            "Epoch 61/300\n",
            "22/22 [==============================] - 0s 3ms/step - loss: 1684.1450 - val_loss: 752.8427\n",
            "Epoch 62/300\n",
            "22/22 [==============================] - 0s 4ms/step - loss: 1794.9224 - val_loss: 744.9622\n",
            "Epoch 63/300\n",
            "22/22 [==============================] - 0s 3ms/step - loss: 1635.1350 - val_loss: 722.7695\n",
            "Epoch 64/300\n",
            "22/22 [==============================] - 0s 3ms/step - loss: 1713.6301 - val_loss: 715.1936\n",
            "Epoch 65/300\n",
            "22/22 [==============================] - 0s 3ms/step - loss: 1693.7864 - val_loss: 698.8914\n",
            "Epoch 66/300\n",
            "22/22 [==============================] - 0s 3ms/step - loss: 1690.7098 - val_loss: 687.7629\n",
            "Epoch 67/300\n",
            "22/22 [==============================] - 0s 3ms/step - loss: 1717.7488 - val_loss: 680.5978\n",
            "Epoch 68/300\n",
            "22/22 [==============================] - 0s 3ms/step - loss: 1642.8223 - val_loss: 669.6566\n",
            "Epoch 69/300\n",
            "22/22 [==============================] - 0s 3ms/step - loss: 1677.4100 - val_loss: 645.8467\n",
            "Epoch 70/300\n",
            "22/22 [==============================] - 0s 3ms/step - loss: 1742.5809 - val_loss: 627.4552\n",
            "Epoch 71/300\n",
            "22/22 [==============================] - 0s 3ms/step - loss: 1557.4421 - val_loss: 613.2554\n",
            "Epoch 72/300\n",
            "22/22 [==============================] - 0s 3ms/step - loss: 1514.5059 - val_loss: 600.0223\n",
            "Epoch 73/300\n",
            "22/22 [==============================] - 0s 4ms/step - loss: 1657.9749 - val_loss: 589.8031\n",
            "Epoch 74/300\n",
            "22/22 [==============================] - 0s 3ms/step - loss: 1576.7670 - val_loss: 598.2056\n",
            "Epoch 75/300\n",
            "22/22 [==============================] - 0s 3ms/step - loss: 1594.3057 - val_loss: 586.6714\n",
            "Epoch 76/300\n",
            "22/22 [==============================] - 0s 3ms/step - loss: 1486.7030 - val_loss: 557.9057\n",
            "Epoch 77/300\n",
            "22/22 [==============================] - 0s 3ms/step - loss: 1492.6996 - val_loss: 522.1163\n",
            "Epoch 78/300\n",
            "22/22 [==============================] - 0s 3ms/step - loss: 1394.1610 - val_loss: 487.8748\n",
            "Epoch 79/300\n",
            "22/22 [==============================] - 0s 3ms/step - loss: 1473.4932 - val_loss: 464.2946\n",
            "Epoch 80/300\n",
            "22/22 [==============================] - 0s 2ms/step - loss: 1553.9314 - val_loss: 485.0707\n",
            "Epoch 81/300\n",
            "22/22 [==============================] - 0s 2ms/step - loss: 1537.3296 - val_loss: 494.1993\n",
            "Epoch 82/300\n",
            "22/22 [==============================] - 0s 3ms/step - loss: 1441.1863 - val_loss: 508.5823\n",
            "Epoch 83/300\n",
            "22/22 [==============================] - 0s 3ms/step - loss: 1421.7279 - val_loss: 484.9255\n",
            "Epoch 84/300\n",
            "22/22 [==============================] - 0s 3ms/step - loss: 1310.6847 - val_loss: 466.0447\n",
            "Epoch 85/300\n",
            "22/22 [==============================] - 0s 3ms/step - loss: 1381.2538 - val_loss: 443.6089\n",
            "Epoch 86/300\n",
            "22/22 [==============================] - 0s 3ms/step - loss: 1354.2941 - val_loss: 452.5711\n",
            "Epoch 87/300\n",
            "22/22 [==============================] - 0s 3ms/step - loss: 1371.7734 - val_loss: 445.9354\n",
            "Epoch 88/300\n",
            "22/22 [==============================] - 0s 3ms/step - loss: 1475.8511 - val_loss: 455.5089\n",
            "Epoch 89/300\n",
            "22/22 [==============================] - 0s 3ms/step - loss: 1347.9248 - val_loss: 451.4601\n",
            "Epoch 90/300\n",
            "22/22 [==============================] - 0s 2ms/step - loss: 1261.2982 - val_loss: 433.2725\n",
            "Epoch 91/300\n",
            "22/22 [==============================] - 0s 3ms/step - loss: 1339.5992 - val_loss: 433.8775\n",
            "Epoch 92/300\n",
            "22/22 [==============================] - 0s 2ms/step - loss: 1318.2877 - val_loss: 433.1869\n",
            "Epoch 93/300\n",
            "22/22 [==============================] - 0s 3ms/step - loss: 1338.2894 - val_loss: 425.6867\n",
            "Epoch 94/300\n",
            "22/22 [==============================] - 0s 3ms/step - loss: 1302.1128 - val_loss: 397.6444\n",
            "Epoch 95/300\n",
            "22/22 [==============================] - 0s 3ms/step - loss: 1334.5242 - val_loss: 379.2383\n",
            "Epoch 96/300\n",
            "22/22 [==============================] - 0s 3ms/step - loss: 1308.9949 - val_loss: 373.4067\n",
            "Epoch 97/300\n",
            "22/22 [==============================] - 0s 3ms/step - loss: 1188.6377 - val_loss: 379.2485\n",
            "Epoch 98/300\n",
            "22/22 [==============================] - 0s 3ms/step - loss: 1257.1525 - val_loss: 363.9749\n",
            "Epoch 99/300\n",
            "22/22 [==============================] - 0s 3ms/step - loss: 1301.0999 - val_loss: 354.2232\n",
            "Epoch 100/300\n",
            "22/22 [==============================] - 0s 3ms/step - loss: 1265.9958 - val_loss: 354.9893\n",
            "Epoch 101/300\n",
            "22/22 [==============================] - 0s 3ms/step - loss: 1354.5416 - val_loss: 371.2437\n",
            "Epoch 102/300\n",
            "22/22 [==============================] - 0s 3ms/step - loss: 1319.1931 - val_loss: 379.6435\n",
            "Epoch 103/300\n",
            "22/22 [==============================] - 0s 3ms/step - loss: 1322.8439 - val_loss: 385.3347\n",
            "Epoch 104/300\n",
            "22/22 [==============================] - 0s 3ms/step - loss: 1306.4432 - val_loss: 384.2506\n",
            "Epoch 105/300\n",
            "22/22 [==============================] - 0s 3ms/step - loss: 1233.2495 - val_loss: 379.8868\n",
            "Epoch 106/300\n",
            "22/22 [==============================] - 0s 3ms/step - loss: 1291.3536 - val_loss: 376.3305\n",
            "Epoch 107/300\n",
            "22/22 [==============================] - 0s 3ms/step - loss: 1197.2968 - val_loss: 362.4908\n",
            "Epoch 108/300\n",
            "22/22 [==============================] - 0s 3ms/step - loss: 1216.7262 - val_loss: 356.8192\n",
            "Epoch 109/300\n",
            "22/22 [==============================] - 0s 3ms/step - loss: 1215.8672 - val_loss: 347.6583\n",
            "Epoch 110/300\n",
            "22/22 [==============================] - 0s 3ms/step - loss: 1188.4749 - val_loss: 332.5433\n",
            "Epoch 111/300\n",
            "22/22 [==============================] - 0s 3ms/step - loss: 1238.1224 - val_loss: 333.9396\n",
            "Epoch 112/300\n",
            "22/22 [==============================] - 0s 3ms/step - loss: 1261.7373 - val_loss: 330.5513\n",
            "Epoch 113/300\n",
            "22/22 [==============================] - 0s 3ms/step - loss: 1347.3854 - val_loss: 347.9951\n",
            "Epoch 114/300\n",
            "22/22 [==============================] - 0s 2ms/step - loss: 1197.4515 - val_loss: 345.6255\n",
            "Epoch 115/300\n",
            "22/22 [==============================] - 0s 4ms/step - loss: 1190.0232 - val_loss: 327.2812\n",
            "Epoch 116/300\n",
            "22/22 [==============================] - 0s 3ms/step - loss: 1159.4675 - val_loss: 323.6334\n",
            "Epoch 117/300\n",
            "22/22 [==============================] - 0s 3ms/step - loss: 1174.1125 - val_loss: 334.6075\n",
            "Epoch 118/300\n",
            "22/22 [==============================] - 0s 3ms/step - loss: 1278.3253 - val_loss: 343.2146\n",
            "Epoch 119/300\n",
            "22/22 [==============================] - 0s 3ms/step - loss: 1260.4058 - val_loss: 343.9174\n",
            "Epoch 120/300\n",
            "22/22 [==============================] - 0s 3ms/step - loss: 1212.5754 - val_loss: 347.7173\n",
            "Epoch 121/300\n",
            "22/22 [==============================] - 0s 2ms/step - loss: 1123.0736 - val_loss: 346.0063\n",
            "Epoch 122/300\n",
            "22/22 [==============================] - 0s 3ms/step - loss: 1143.5234 - val_loss: 356.9510\n",
            "Epoch 123/300\n",
            "22/22 [==============================] - 0s 3ms/step - loss: 1273.1481 - val_loss: 381.9205\n",
            "Epoch 124/300\n",
            "22/22 [==============================] - 0s 4ms/step - loss: 1068.2427 - val_loss: 388.4698\n",
            "Epoch 125/300\n",
            "22/22 [==============================] - 0s 3ms/step - loss: 1189.1708 - val_loss: 387.5525\n",
            "Epoch 126/300\n",
            "22/22 [==============================] - 0s 3ms/step - loss: 1118.1710 - val_loss: 372.2544\n",
            "Epoch 127/300\n",
            "22/22 [==============================] - 0s 3ms/step - loss: 1132.0022 - val_loss: 356.1389\n",
            "Epoch 128/300\n",
            "22/22 [==============================] - 0s 3ms/step - loss: 1155.8921 - val_loss: 336.8318\n",
            "Epoch 129/300\n",
            "22/22 [==============================] - 0s 3ms/step - loss: 1113.9556 - val_loss: 324.8955\n",
            "Epoch 130/300\n",
            "22/22 [==============================] - 0s 3ms/step - loss: 1188.9380 - val_loss: 331.3037\n",
            "Epoch 131/300\n",
            "22/22 [==============================] - 0s 4ms/step - loss: 1128.8619 - val_loss: 317.3478\n",
            "Epoch 132/300\n",
            "22/22 [==============================] - 0s 3ms/step - loss: 1073.0167 - val_loss: 303.5504\n",
            "Epoch 133/300\n",
            "22/22 [==============================] - 0s 3ms/step - loss: 1058.5775 - val_loss: 295.7993\n",
            "Epoch 134/300\n",
            "22/22 [==============================] - 0s 3ms/step - loss: 1114.7485 - val_loss: 311.6626\n",
            "Epoch 135/300\n",
            "22/22 [==============================] - 0s 3ms/step - loss: 1078.0923 - val_loss: 330.2215\n",
            "Epoch 136/300\n",
            "22/22 [==============================] - 0s 3ms/step - loss: 1239.1246 - val_loss: 335.9730\n",
            "Epoch 137/300\n",
            "22/22 [==============================] - 0s 4ms/step - loss: 1187.3259 - val_loss: 357.9917\n",
            "Epoch 138/300\n",
            "22/22 [==============================] - 0s 3ms/step - loss: 1123.3951 - val_loss: 363.0965\n",
            "Epoch 139/300\n",
            "22/22 [==============================] - 0s 3ms/step - loss: 1025.3473 - val_loss: 357.9927\n",
            "Epoch 140/300\n",
            "22/22 [==============================] - 0s 3ms/step - loss: 1172.5576 - val_loss: 355.3158\n",
            "Epoch 141/300\n",
            "22/22 [==============================] - 0s 4ms/step - loss: 1095.9050 - val_loss: 347.8692\n",
            "Epoch 142/300\n",
            "22/22 [==============================] - 0s 3ms/step - loss: 1109.7672 - val_loss: 334.6266\n",
            "Epoch 143/300\n",
            "22/22 [==============================] - 0s 3ms/step - loss: 1195.6284 - val_loss: 319.0410\n",
            "Epoch 144/300\n",
            "22/22 [==============================] - 0s 3ms/step - loss: 1055.6887 - val_loss: 314.1146\n",
            "Epoch 145/300\n",
            "22/22 [==============================] - 0s 3ms/step - loss: 1105.1620 - val_loss: 312.1702\n",
            "Epoch 146/300\n",
            "22/22 [==============================] - 0s 3ms/step - loss: 1085.2761 - val_loss: 313.7957\n",
            "Epoch 147/300\n",
            "22/22 [==============================] - 0s 3ms/step - loss: 1028.9127 - val_loss: 300.4666\n",
            "Epoch 148/300\n",
            "22/22 [==============================] - 0s 3ms/step - loss: 1123.2566 - val_loss: 293.9018\n",
            "Epoch 149/300\n",
            "22/22 [==============================] - 0s 3ms/step - loss: 1072.2062 - val_loss: 296.9542\n",
            "Epoch 150/300\n",
            "22/22 [==============================] - 0s 3ms/step - loss: 1063.8176 - val_loss: 303.4644\n",
            "Epoch 151/300\n",
            "22/22 [==============================] - 0s 3ms/step - loss: 967.8590 - val_loss: 294.9952\n",
            "Epoch 152/300\n",
            "22/22 [==============================] - 0s 2ms/step - loss: 1099.3475 - val_loss: 281.1930\n",
            "Epoch 153/300\n",
            "22/22 [==============================] - 0s 3ms/step - loss: 1013.9977 - val_loss: 282.8633\n",
            "Epoch 154/300\n",
            "22/22 [==============================] - 0s 3ms/step - loss: 1086.1132 - val_loss: 286.3959\n",
            "Epoch 155/300\n",
            "22/22 [==============================] - 0s 3ms/step - loss: 1028.2596 - val_loss: 284.8690\n",
            "Epoch 156/300\n",
            "22/22 [==============================] - 0s 3ms/step - loss: 1126.8728 - val_loss: 294.0782\n",
            "Epoch 157/300\n",
            "22/22 [==============================] - 0s 3ms/step - loss: 1100.2634 - val_loss: 298.7120\n",
            "Epoch 158/300\n",
            "22/22 [==============================] - 0s 4ms/step - loss: 1041.2524 - val_loss: 286.1977\n",
            "Epoch 159/300\n",
            "22/22 [==============================] - 0s 3ms/step - loss: 1025.3014 - val_loss: 292.7601\n",
            "Epoch 160/300\n",
            "22/22 [==============================] - 0s 3ms/step - loss: 1005.6804 - val_loss: 287.7614\n",
            "Epoch 161/300\n",
            "22/22 [==============================] - 0s 3ms/step - loss: 1051.7086 - val_loss: 276.9164\n",
            "Epoch 162/300\n",
            "22/22 [==============================] - 0s 3ms/step - loss: 1054.1278 - val_loss: 272.2478\n",
            "Epoch 163/300\n",
            "22/22 [==============================] - 0s 3ms/step - loss: 1035.3401 - val_loss: 267.1666\n",
            "Epoch 164/300\n",
            "22/22 [==============================] - 0s 3ms/step - loss: 993.7512 - val_loss: 270.1743\n",
            "Epoch 165/300\n",
            "22/22 [==============================] - 0s 3ms/step - loss: 1078.6887 - val_loss: 261.6804\n",
            "Epoch 166/300\n",
            "22/22 [==============================] - 0s 3ms/step - loss: 1087.5507 - val_loss: 280.4761\n",
            "Epoch 167/300\n",
            "22/22 [==============================] - 0s 4ms/step - loss: 1012.5365 - val_loss: 304.3243\n",
            "Epoch 168/300\n",
            "22/22 [==============================] - 0s 3ms/step - loss: 1023.8173 - val_loss: 287.2410\n",
            "Epoch 169/300\n",
            "22/22 [==============================] - 0s 4ms/step - loss: 1136.6882 - val_loss: 295.4250\n",
            "Epoch 170/300\n",
            "22/22 [==============================] - 0s 4ms/step - loss: 1011.5096 - val_loss: 310.9132\n",
            "Epoch 171/300\n",
            "22/22 [==============================] - 0s 3ms/step - loss: 1118.1133 - val_loss: 311.2234\n",
            "Epoch 172/300\n",
            "22/22 [==============================] - 0s 2ms/step - loss: 949.2374 - val_loss: 294.1604\n",
            "Epoch 173/300\n",
            "22/22 [==============================] - 0s 3ms/step - loss: 1045.5651 - val_loss: 292.9220\n",
            "Epoch 174/300\n",
            "22/22 [==============================] - 0s 5ms/step - loss: 1111.7728 - val_loss: 308.0627\n",
            "Epoch 175/300\n",
            "22/22 [==============================] - 0s 3ms/step - loss: 1000.4229 - val_loss: 293.3354\n",
            "Epoch 176/300\n",
            "22/22 [==============================] - 0s 3ms/step - loss: 1046.1760 - val_loss: 287.0327\n",
            "Epoch 177/300\n",
            "22/22 [==============================] - 0s 4ms/step - loss: 1037.0188 - val_loss: 274.9370\n",
            "Epoch 178/300\n",
            "22/22 [==============================] - 0s 3ms/step - loss: 1033.9663 - val_loss: 264.6211\n",
            "Epoch 179/300\n",
            "22/22 [==============================] - 0s 3ms/step - loss: 967.5405 - val_loss: 269.1710\n",
            "Epoch 180/300\n",
            "22/22 [==============================] - 0s 3ms/step - loss: 1046.3126 - val_loss: 276.8745\n",
            "Epoch 181/300\n",
            "22/22 [==============================] - 0s 3ms/step - loss: 926.9689 - val_loss: 256.8760\n",
            "Epoch 182/300\n",
            "22/22 [==============================] - 0s 3ms/step - loss: 1004.3900 - val_loss: 259.4811\n",
            "Epoch 183/300\n",
            "22/22 [==============================] - 0s 3ms/step - loss: 960.3987 - val_loss: 262.6064\n",
            "Epoch 184/300\n",
            "22/22 [==============================] - 0s 3ms/step - loss: 967.6258 - val_loss: 249.0324\n",
            "Epoch 185/300\n",
            "22/22 [==============================] - 0s 3ms/step - loss: 1001.9489 - val_loss: 245.4617\n",
            "Epoch 186/300\n",
            "22/22 [==============================] - 0s 3ms/step - loss: 974.4903 - val_loss: 242.3216\n",
            "Epoch 187/300\n",
            "22/22 [==============================] - 0s 3ms/step - loss: 1054.4987 - val_loss: 247.3458\n",
            "Epoch 188/300\n",
            "22/22 [==============================] - 0s 3ms/step - loss: 934.2103 - val_loss: 248.5245\n",
            "Epoch 189/300\n",
            "22/22 [==============================] - 0s 3ms/step - loss: 859.7906 - val_loss: 242.0866\n",
            "Epoch 190/300\n",
            "22/22 [==============================] - 0s 3ms/step - loss: 919.9665 - val_loss: 241.1722\n",
            "Epoch 191/300\n",
            "22/22 [==============================] - 0s 3ms/step - loss: 978.5264 - val_loss: 258.0508\n",
            "Epoch 192/300\n",
            "22/22 [==============================] - 0s 3ms/step - loss: 1082.5059 - val_loss: 268.6801\n",
            "Epoch 193/300\n",
            "22/22 [==============================] - 0s 3ms/step - loss: 1060.0970 - val_loss: 269.5802\n",
            "Epoch 194/300\n",
            "22/22 [==============================] - 0s 3ms/step - loss: 877.6785 - val_loss: 264.2766\n",
            "Epoch 195/300\n",
            "22/22 [==============================] - 0s 3ms/step - loss: 979.6585 - val_loss: 252.5847\n",
            "Epoch 196/300\n",
            "22/22 [==============================] - 0s 3ms/step - loss: 965.6958 - val_loss: 245.9089\n",
            "Epoch 197/300\n",
            "22/22 [==============================] - 0s 3ms/step - loss: 886.4925 - val_loss: 244.8740\n",
            "Epoch 198/300\n",
            "22/22 [==============================] - 0s 4ms/step - loss: 1014.3075 - val_loss: 246.2566\n",
            "Epoch 199/300\n",
            "22/22 [==============================] - 0s 4ms/step - loss: 984.3173 - val_loss: 247.4841\n",
            "Epoch 200/300\n",
            "22/22 [==============================] - 0s 4ms/step - loss: 929.9984 - val_loss: 256.4821\n",
            "Epoch 201/300\n",
            "22/22 [==============================] - 0s 3ms/step - loss: 965.6520 - val_loss: 254.7035\n",
            "Epoch 202/300\n",
            "22/22 [==============================] - 0s 3ms/step - loss: 936.9469 - val_loss: 256.3541\n",
            "Epoch 203/300\n",
            "22/22 [==============================] - 0s 3ms/step - loss: 973.0302 - val_loss: 248.3728\n",
            "Epoch 204/300\n",
            "22/22 [==============================] - 0s 3ms/step - loss: 943.9800 - val_loss: 251.1960\n",
            "Epoch 205/300\n",
            "22/22 [==============================] - 0s 3ms/step - loss: 900.2556 - val_loss: 249.8363\n",
            "Epoch 206/300\n",
            "22/22 [==============================] - 0s 3ms/step - loss: 942.7261 - val_loss: 253.1954\n",
            "Epoch 207/300\n",
            "22/22 [==============================] - 0s 3ms/step - loss: 972.7537 - val_loss: 259.7558\n",
            "Epoch 208/300\n",
            "22/22 [==============================] - 0s 3ms/step - loss: 920.5866 - val_loss: 250.3512\n",
            "Epoch 209/300\n",
            "22/22 [==============================] - 0s 3ms/step - loss: 954.5203 - val_loss: 246.1228\n",
            "Epoch 210/300\n",
            "22/22 [==============================] - 0s 3ms/step - loss: 922.8204 - val_loss: 237.6248\n",
            "Epoch 211/300\n",
            "22/22 [==============================] - 0s 3ms/step - loss: 845.9844 - val_loss: 254.8829\n",
            "Epoch 212/300\n",
            "22/22 [==============================] - 0s 2ms/step - loss: 944.2711 - val_loss: 243.6196\n",
            "Epoch 213/300\n",
            "22/22 [==============================] - 0s 3ms/step - loss: 936.2512 - val_loss: 236.2483\n",
            "Epoch 214/300\n",
            "22/22 [==============================] - 0s 3ms/step - loss: 923.9681 - val_loss: 239.2982\n",
            "Epoch 215/300\n",
            "22/22 [==============================] - 0s 3ms/step - loss: 944.3353 - val_loss: 245.6620\n",
            "Epoch 216/300\n",
            "22/22 [==============================] - 0s 3ms/step - loss: 866.8925 - val_loss: 249.0667\n",
            "Epoch 217/300\n",
            "22/22 [==============================] - 0s 3ms/step - loss: 926.8314 - val_loss: 243.6952\n",
            "Epoch 218/300\n",
            "22/22 [==============================] - 0s 3ms/step - loss: 955.6655 - val_loss: 232.0316\n",
            "Epoch 219/300\n",
            "22/22 [==============================] - 0s 3ms/step - loss: 925.0087 - val_loss: 245.6496\n",
            "Epoch 220/300\n",
            "22/22 [==============================] - 0s 3ms/step - loss: 827.6467 - val_loss: 248.2732\n",
            "Epoch 221/300\n",
            "22/22 [==============================] - 0s 3ms/step - loss: 867.3124 - val_loss: 249.6729\n",
            "Epoch 222/300\n",
            "22/22 [==============================] - 0s 3ms/step - loss: 958.4253 - val_loss: 251.7236\n",
            "Epoch 223/300\n",
            "22/22 [==============================] - 0s 3ms/step - loss: 924.1129 - val_loss: 238.2289\n",
            "Epoch 224/300\n",
            "22/22 [==============================] - 0s 3ms/step - loss: 856.7465 - val_loss: 224.9436\n",
            "Epoch 225/300\n",
            "22/22 [==============================] - 0s 3ms/step - loss: 837.4246 - val_loss: 226.1080\n",
            "Epoch 226/300\n",
            "22/22 [==============================] - 0s 3ms/step - loss: 862.3401 - val_loss: 219.1508\n",
            "Epoch 227/300\n",
            "22/22 [==============================] - 0s 3ms/step - loss: 877.3181 - val_loss: 212.4278\n",
            "Epoch 228/300\n",
            "22/22 [==============================] - 0s 3ms/step - loss: 872.2901 - val_loss: 208.2104\n",
            "Epoch 229/300\n",
            "22/22 [==============================] - 0s 3ms/step - loss: 888.2243 - val_loss: 211.4046\n",
            "Epoch 230/300\n",
            "22/22 [==============================] - 0s 3ms/step - loss: 911.1014 - val_loss: 208.3813\n",
            "Epoch 231/300\n",
            "22/22 [==============================] - 0s 4ms/step - loss: 911.1143 - val_loss: 223.1583\n",
            "Epoch 232/300\n",
            "22/22 [==============================] - 0s 4ms/step - loss: 843.6180 - val_loss: 224.8542\n",
            "Epoch 233/300\n",
            "22/22 [==============================] - 0s 3ms/step - loss: 960.8330 - val_loss: 228.9140\n",
            "Epoch 234/300\n",
            "22/22 [==============================] - 0s 3ms/step - loss: 934.6746 - val_loss: 225.3513\n",
            "Epoch 235/300\n",
            "22/22 [==============================] - 0s 3ms/step - loss: 887.2679 - val_loss: 236.0051\n",
            "Epoch 236/300\n",
            "22/22 [==============================] - 0s 3ms/step - loss: 858.8700 - val_loss: 240.2850\n",
            "Epoch 237/300\n",
            "22/22 [==============================] - 0s 3ms/step - loss: 878.7926 - val_loss: 252.7484\n",
            "Epoch 238/300\n",
            "22/22 [==============================] - 0s 3ms/step - loss: 886.4547 - val_loss: 238.2707\n",
            "Epoch 239/300\n",
            "22/22 [==============================] - 0s 4ms/step - loss: 851.5857 - val_loss: 223.6441\n",
            "Epoch 240/300\n",
            "22/22 [==============================] - 0s 3ms/step - loss: 843.1296 - val_loss: 215.3502\n",
            "Epoch 241/300\n",
            "22/22 [==============================] - 0s 3ms/step - loss: 827.4113 - val_loss: 212.0850\n",
            "Epoch 242/300\n",
            "22/22 [==============================] - 0s 3ms/step - loss: 866.6670 - val_loss: 216.7356\n",
            "Epoch 243/300\n",
            "22/22 [==============================] - 0s 5ms/step - loss: 836.4720 - val_loss: 219.2538\n",
            "Epoch 244/300\n",
            "22/22 [==============================] - 0s 3ms/step - loss: 877.5305 - val_loss: 211.4096\n",
            "Epoch 245/300\n",
            "22/22 [==============================] - 0s 3ms/step - loss: 807.8571 - val_loss: 210.3186\n",
            "Epoch 246/300\n",
            "22/22 [==============================] - 0s 3ms/step - loss: 811.0900 - val_loss: 212.3435\n",
            "Epoch 247/300\n",
            "22/22 [==============================] - 0s 3ms/step - loss: 849.0865 - val_loss: 222.8969\n",
            "Epoch 248/300\n",
            "22/22 [==============================] - 0s 4ms/step - loss: 860.5391 - val_loss: 218.4459\n",
            "Epoch 249/300\n",
            "22/22 [==============================] - 0s 3ms/step - loss: 830.8107 - val_loss: 213.2027\n",
            "Epoch 250/300\n",
            "22/22 [==============================] - 0s 3ms/step - loss: 868.1987 - val_loss: 224.2772\n",
            "Epoch 251/300\n",
            "22/22 [==============================] - 0s 4ms/step - loss: 850.6061 - val_loss: 232.4505\n",
            "Epoch 252/300\n",
            "22/22 [==============================] - 0s 3ms/step - loss: 834.9202 - val_loss: 215.7483\n",
            "Epoch 253/300\n",
            "22/22 [==============================] - 0s 3ms/step - loss: 806.6707 - val_loss: 200.4188\n",
            "Epoch 254/300\n",
            "22/22 [==============================] - 0s 3ms/step - loss: 838.7295 - val_loss: 200.6355\n",
            "Epoch 255/300\n",
            "22/22 [==============================] - 0s 3ms/step - loss: 824.1069 - val_loss: 205.0271\n",
            "Epoch 256/300\n",
            "22/22 [==============================] - 0s 3ms/step - loss: 832.2326 - val_loss: 206.5233\n",
            "Epoch 257/300\n",
            "22/22 [==============================] - 0s 3ms/step - loss: 742.6399 - val_loss: 207.3449\n",
            "Epoch 258/300\n",
            "22/22 [==============================] - 0s 3ms/step - loss: 874.9733 - val_loss: 199.4642\n",
            "Epoch 259/300\n",
            "22/22 [==============================] - 0s 3ms/step - loss: 853.0546 - val_loss: 204.6181\n",
            "Epoch 260/300\n",
            "22/22 [==============================] - 0s 3ms/step - loss: 894.4015 - val_loss: 213.0234\n",
            "Epoch 261/300\n",
            "22/22 [==============================] - 0s 3ms/step - loss: 831.3831 - val_loss: 210.6151\n",
            "Epoch 262/300\n",
            "22/22 [==============================] - 0s 3ms/step - loss: 784.8594 - val_loss: 194.3109\n",
            "Epoch 263/300\n",
            "22/22 [==============================] - 0s 3ms/step - loss: 857.4109 - val_loss: 189.1156\n",
            "Epoch 264/300\n",
            "22/22 [==============================] - 0s 3ms/step - loss: 761.9805 - val_loss: 197.2042\n",
            "Epoch 265/300\n",
            "22/22 [==============================] - 0s 3ms/step - loss: 884.2438 - val_loss: 196.2713\n",
            "Epoch 266/300\n",
            "22/22 [==============================] - 0s 4ms/step - loss: 828.4532 - val_loss: 191.5105\n",
            "Epoch 267/300\n",
            "22/22 [==============================] - 0s 3ms/step - loss: 863.8983 - val_loss: 197.7185\n",
            "Epoch 268/300\n",
            "22/22 [==============================] - 0s 3ms/step - loss: 786.3306 - val_loss: 180.7787\n",
            "Epoch 269/300\n",
            "22/22 [==============================] - 0s 3ms/step - loss: 906.6871 - val_loss: 185.2172\n",
            "Epoch 270/300\n",
            "22/22 [==============================] - 0s 3ms/step - loss: 740.4740 - val_loss: 189.0277\n",
            "Epoch 271/300\n",
            "22/22 [==============================] - 0s 3ms/step - loss: 778.8773 - val_loss: 184.9250\n",
            "Epoch 272/300\n",
            "22/22 [==============================] - 0s 3ms/step - loss: 738.5019 - val_loss: 176.8222\n",
            "Epoch 273/300\n",
            "22/22 [==============================] - 0s 3ms/step - loss: 741.1388 - val_loss: 173.4099\n",
            "Epoch 274/300\n",
            "22/22 [==============================] - 0s 3ms/step - loss: 746.4012 - val_loss: 167.5906\n",
            "Epoch 275/300\n",
            "22/22 [==============================] - 0s 3ms/step - loss: 804.5627 - val_loss: 175.6622\n",
            "Epoch 276/300\n",
            "22/22 [==============================] - 0s 3ms/step - loss: 740.9710 - val_loss: 179.1921\n",
            "Epoch 277/300\n",
            "22/22 [==============================] - 0s 3ms/step - loss: 815.6086 - val_loss: 193.4396\n",
            "Epoch 278/300\n",
            "22/22 [==============================] - 0s 3ms/step - loss: 816.6696 - val_loss: 189.1744\n",
            "Epoch 279/300\n",
            "22/22 [==============================] - 0s 3ms/step - loss: 827.0728 - val_loss: 194.5888\n",
            "Epoch 280/300\n",
            "22/22 [==============================] - 0s 3ms/step - loss: 855.7794 - val_loss: 197.0312\n",
            "Epoch 281/300\n",
            "22/22 [==============================] - 0s 3ms/step - loss: 826.9243 - val_loss: 194.9903\n",
            "Epoch 282/300\n",
            "22/22 [==============================] - 0s 4ms/step - loss: 840.5530 - val_loss: 199.6012\n",
            "Epoch 283/300\n",
            "22/22 [==============================] - 0s 3ms/step - loss: 778.2849 - val_loss: 209.7891\n",
            "Epoch 284/300\n",
            "22/22 [==============================] - 0s 3ms/step - loss: 697.0483 - val_loss: 210.6699\n",
            "Epoch 285/300\n",
            "22/22 [==============================] - 0s 2ms/step - loss: 772.5892 - val_loss: 205.8470\n",
            "Epoch 286/300\n",
            "22/22 [==============================] - 0s 3ms/step - loss: 838.0313 - val_loss: 207.3442\n",
            "Epoch 287/300\n",
            "22/22 [==============================] - 0s 3ms/step - loss: 805.9866 - val_loss: 202.5483\n",
            "Epoch 288/300\n",
            "22/22 [==============================] - 0s 3ms/step - loss: 794.4346 - val_loss: 191.5378\n",
            "Epoch 289/300\n",
            "22/22 [==============================] - 0s 3ms/step - loss: 754.5998 - val_loss: 187.5492\n",
            "Epoch 290/300\n",
            "22/22 [==============================] - 0s 3ms/step - loss: 766.9462 - val_loss: 180.8995\n",
            "Epoch 291/300\n",
            "22/22 [==============================] - 0s 3ms/step - loss: 806.1456 - val_loss: 182.5674\n",
            "Epoch 292/300\n",
            "22/22 [==============================] - 0s 3ms/step - loss: 826.9365 - val_loss: 183.8189\n",
            "Epoch 293/300\n",
            "22/22 [==============================] - 0s 3ms/step - loss: 764.8234 - val_loss: 184.2251\n",
            "Epoch 294/300\n",
            "22/22 [==============================] - 0s 3ms/step - loss: 815.4736 - val_loss: 177.9033\n",
            "Epoch 295/300\n",
            "22/22 [==============================] - 0s 3ms/step - loss: 816.3223 - val_loss: 179.1783\n",
            "Epoch 296/300\n",
            "22/22 [==============================] - 0s 3ms/step - loss: 863.9962 - val_loss: 173.9428\n",
            "Epoch 297/300\n",
            "22/22 [==============================] - 0s 3ms/step - loss: 781.1730 - val_loss: 171.9048\n",
            "Epoch 298/300\n",
            "22/22 [==============================] - 0s 3ms/step - loss: 726.1314 - val_loss: 172.1155\n",
            "Epoch 299/300\n",
            "22/22 [==============================] - 0s 4ms/step - loss: 770.0745 - val_loss: 174.5649\n",
            "Epoch 00299: early stopping\n"
          ]
        },
        {
          "output_type": "execute_result",
          "data": {
            "text/plain": [
              "<keras.callbacks.History at 0x7fe3ba9bdc90>"
            ]
          },
          "metadata": {},
          "execution_count": 62
        }
      ]
    },
    {
      "cell_type": "code",
      "metadata": {
        "colab": {
          "base_uri": "https://localhost:8080/"
        },
        "id": "ynVMZTw3MM9X",
        "outputId": "3f2d3772-5873-4386-9536-0bdadd02934e"
      },
      "source": [
        "from sklearn.metrics import mean_squared_error,r2_score\n",
        "print(f'MSE :{mean_squared_error(ytest,ypred)}')\n",
        "print(f'RMSE :{np.sqrt(mean_squared_error(ytest,ypred))}')\n",
        "print(r2_score(ytest,ypred))"
      ],
      "execution_count": 63,
      "outputs": [
        {
          "output_type": "stream",
          "name": "stdout",
          "text": [
            "MSE :35.94810505646162\n",
            "RMSE :5.995673861749121\n",
            "0.8543915249878509\n"
          ]
        }
      ]
    },
    {
      "cell_type": "code",
      "metadata": {
        "id": "rRmL8CVsIlpi",
        "colab": {
          "base_uri": "https://localhost:8080/"
        },
        "outputId": "9f1a9f3e-3847-435e-c94d-ec11ee39de68"
      },
      "source": [
        "from tensorflow.keras.models import load_model\n",
        "ann.save('StudentsPerformance')"
      ],
      "execution_count": 65,
      "outputs": [
        {
          "output_type": "stream",
          "name": "stdout",
          "text": [
            "INFO:tensorflow:Assets written to: StudentsPerformance/assets\n"
          ]
        }
      ]
    },
    {
      "cell_type": "code",
      "metadata": {
        "id": "goGJrPBpf72u"
      },
      "source": [
        ""
      ],
      "execution_count": null,
      "outputs": []
    }
  ]
}